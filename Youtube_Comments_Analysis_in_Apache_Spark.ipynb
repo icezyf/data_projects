{
  "nbformat": 4,
  "nbformat_minor": 0,
  "metadata": {
    "colab": {
      "name": "Youtube Comments Analysis in Apache Spark.ipynb",
      "provenance": [],
      "collapsed_sections": [],
      "authorship_tag": "ABX9TyNX7vm/0/mQmdIoczL80G5E",
      "include_colab_link": true
    },
    "kernelspec": {
      "display_name": "Python 3",
      "name": "python3"
    },
    "language_info": {
      "name": "python"
    }
  },
  "cells": [
    {
      "cell_type": "markdown",
      "metadata": {
        "id": "view-in-github",
        "colab_type": "text"
      },
      "source": [
        "<a href=\"https://colab.research.google.com/github/icezyf/data_projects/blob/main/Youtube_Comments_Analysis_in_Apache_Spark.ipynb\" target=\"_parent\"><img src=\"https://colab.research.google.com/assets/colab-badge.svg\" alt=\"Open In Colab\"/></a>"
      ]
    },
    {
      "cell_type": "markdown",
      "metadata": {
        "id": "LILChvH9x0dO"
      },
      "source": [
        "# **Youtube Comments Analysis** #\n",
        "**Write a Spark program to analyze the text data**\n",
        "\n",
        "In this notebook, we have a dataset of user comments for youtube videos related to animals or pets. We will attempt to identify cat or dog owners based on these comments, find out the topics important to them, and then identify video creators with the most viewers that are cat or dog owners."
      ]
    },
    {
      "cell_type": "markdown",
      "metadata": {
        "id": "N7AHIxeIyPQk"
      },
      "source": [
        "Analyzed by Crystella Yufei Zheng (11/07/2020)"
      ]
    },
    {
      "cell_type": "markdown",
      "metadata": {
        "id": "OFjGxBuRyaZZ"
      },
      "source": [
        "**Content**\n",
        "\n",
        "0. Packages Loading, Data ETL and Exploation\n",
        "1. Data Preprocessing \n",
        "2. Modeling \n",
        "3. Model Application and Gaining Insights\n",
        "4. Summary"
      ]
    },
    {
      "cell_type": "markdown",
      "metadata": {
        "id": "spf6aWoWydnE"
      },
      "source": [
        "## 0. Packages Loading, Data ETL and Exploation"
      ]
    },
    {
      "cell_type": "code",
      "metadata": {
        "id": "rnoavShUxcq0"
      },
      "source": [
        "!apt-get install openjdk-8-jdk-headless -qq > /dev/null\n",
        "!wget -q https://downloads.apache.org/spark/spark-3.1.2/spark-3.1.2-bin-hadoop3.2.tgz\n",
        "!tar xf spark-3.1.2-bin-hadoop3.2.tgz\n",
        "!pip install -q findspark"
      ],
      "execution_count": 1,
      "outputs": []
    },
    {
      "cell_type": "code",
      "metadata": {
        "id": "C681n_O9y-be"
      },
      "source": [
        "# Miscellaneous operating system interfaces\n",
        "import os \n",
        "# os.environ: A mapping object representing the string environment. \n",
        "# behaves like a python dictionary, so all the common dictionary operations like get \n",
        "# and set can be performed. \n",
        "os.environ[\"JAVA_HOME\"] = \"/usr/lib/jvm/java-8-openjdk-amd64\"\n",
        "os.environ[\"SPARK_HOME\"] = \"/content/spark-3.1.2-bin-hadoop3.2\""
      ],
      "execution_count": 2,
      "outputs": []
    },
    {
      "cell_type": "code",
      "metadata": {
        "id": "FoAd1tXxzEl_"
      },
      "source": [
        "import findspark\n",
        "# Provides findspark.init() to make pyspark importable as a regular library.\n",
        "findspark.init() \n",
        "from pyspark.sql import SparkSession\n",
        "spark = SparkSession.builder.master(\"local[*]\").getOrCreate()"
      ],
      "execution_count": 3,
      "outputs": []
    },
    {
      "cell_type": "code",
      "metadata": {
        "colab": {
          "base_uri": "https://localhost:8080/",
          "height": 35
        },
        "id": "Ozd-oUGLz6lT",
        "outputId": "6432d685-1794-4393-c3a5-358b533315e8"
      },
      "source": [
        "spark.version"
      ],
      "execution_count": 4,
      "outputs": [
        {
          "output_type": "execute_result",
          "data": {
            "application/vnd.google.colaboratory.intrinsic+json": {
              "type": "string"
            },
            "text/plain": [
              "'3.1.2'"
            ]
          },
          "metadata": {},
          "execution_count": 4
        }
      ]
    },
    {
      "cell_type": "code",
      "metadata": {
        "id": "zI5fDuQo0Qxb"
      },
      "source": [
        "# install pydrive to load data\n",
        "!pip install -U -q PyDrive\n",
        "\n",
        "from pydrive.auth import GoogleAuth\n",
        "from pydrive.drive import GoogleDrive\n",
        "from google.colab import auth\n",
        "from oauth2client.client import GoogleCredentials\n",
        "\n",
        "auth.authenticate_user()\n",
        "gauth = GoogleAuth()\n",
        "gauth.credentials = GoogleCredentials.get_application_default()\n",
        "drive = GoogleDrive(gauth)"
      ],
      "execution_count": 5,
      "outputs": []
    },
    {
      "cell_type": "code",
      "metadata": {
        "id": "cXZfxY4G1cqR"
      },
      "source": [
        "# https://drive.google.com/file/d/1o3DsS3jN_t2Mw3TsV0i7ySRmh9kyYi1a/view?usp=sharing\n",
        "file = drive.CreateFile({'id':'1o3DsS3jN_t2Mw3TsV0i7ySRmh9kyYi1a'}) \n",
        "file.GetContentFile('animals_comments.csv.gz')"
      ],
      "execution_count": 6,
      "outputs": []
    },
    {
      "cell_type": "code",
      "metadata": {
        "id": "-aW7UanUIxBF"
      },
      "source": [
        "# unzip the .gz file\n",
        "!gunzip animals_comments.csv.gz"
      ],
      "execution_count": 7,
      "outputs": []
    },
    {
      "cell_type": "code",
      "metadata": {
        "colab": {
          "base_uri": "https://localhost:8080/"
        },
        "id": "g3XxY0q41zAT",
        "outputId": "7e0eae6b-e970-4e3a-c22b-794263e4a013"
      },
      "source": [
        "!ls"
      ],
      "execution_count": 8,
      "outputs": [
        {
          "output_type": "stream",
          "name": "stdout",
          "text": [
            "adc.json\t      sample_data\t\t spark-3.1.2-bin-hadoop3.2.tgz\n",
            "animals_comments.csv  spark-3.1.2-bin-hadoop3.2\n"
          ]
        }
      ]
    },
    {
      "cell_type": "code",
      "metadata": {
        "colab": {
          "base_uri": "https://localhost:8080/"
        },
        "id": "qI6VeIKS19OC",
        "outputId": "93b385e8-f71c-4040-9299-7bf7d2351aeb"
      },
      "source": [
        "df = spark.read.load('/content/animals_comments.csv', format='csv', header=True)\n",
        "df.show(10)"
      ],
      "execution_count": 9,
      "outputs": [
        {
          "output_type": "stream",
          "name": "stdout",
          "text": [
            "+--------------------+------+-------------------------------------+\n",
            "|        creator_name|userid|                              comment|\n",
            "+--------------------+------+-------------------------------------+\n",
            "|        Doug The Pug|    87|                 I shared this to ...|\n",
            "|        Doug The Pug|    87|                   Super cute  😀🐕🐶|\n",
            "|         bulletproof|   530|                 stop saying get e...|\n",
            "|       Meu Zoológico|   670|                 Tenho uma jiboia ...|\n",
            "|              ojatro|  1031|                 I wanna see what ...|\n",
            "|     Tingle Triggers|  1212|                 Well shit now Im ...|\n",
            "|Hope For Paws - O...|  1806|                 when I saw the en...|\n",
            "|Hope For Paws - O...|  2036|                 Holy crap. That i...|\n",
            "|          Life Story|  2637|武器はクエストで貰えるんじゃないん...|\n",
            "|       Brian Barczyk|  2698|                 Call the teddy Larry|\n",
            "+--------------------+------+-------------------------------------+\n",
            "only showing top 10 rows\n",
            "\n"
          ]
        }
      ]
    },
    {
      "cell_type": "code",
      "metadata": {
        "id": "9Oeobe4s0Cud"
      },
      "source": [
        "from csv import reader\n",
        "from pyspark.sql import Row \n",
        "from pyspark.sql.types import *\n",
        "import pandas as pd\n",
        "import numpy as np\n",
        "import seaborn as sns\n",
        "import matplotlib.pyplot as plt\n",
        "import warnings\n",
        "warnings.filterwarnings('ignore')\n",
        "%matplotlib inline\n",
        " \n",
        "os.environ[\"PYSPARK_PYTHON\"] = \"python3\""
      ],
      "execution_count": 10,
      "outputs": []
    },
    {
      "cell_type": "code",
      "metadata": {
        "colab": {
          "base_uri": "https://localhost:8080/"
        },
        "id": "L2g033seKoe0",
        "outputId": "f70ac1ff-90fd-45bd-9fb6-8b5b44ccca41"
      },
      "source": [
        "df_size = df.count()\n",
        "unique_user = df.select('userid').distinct().count()\n",
        "print(f'''\n",
        "The size of the data is {df.count()} with total {unique_user} users. \n",
        "''')"
      ],
      "execution_count": 11,
      "outputs": [
        {
          "output_type": "stream",
          "name": "stdout",
          "text": [
            "\n",
            "The size of the data is 5820035 with total 2537174 users. \n",
            "\n"
          ]
        }
      ]
    },
    {
      "cell_type": "code",
      "metadata": {
        "colab": {
          "base_uri": "https://localhost:8080/"
        },
        "id": "3IeLrwrARh9G",
        "outputId": "7fe327ae-e89c-4478-86c5-86e428c009ff"
      },
      "source": [
        "# Count None, NULL & Empty String Literal Values\n",
        "from pyspark.sql.functions import col,isnan,when,count\n",
        "df.select([count(when(col(c).contains('NULL') | \\\n",
        "                            (col(c) == '' ) | \\\n",
        "                            col(c).isNull() | \\\n",
        "                            isnan(c), c \n",
        "                           )).alias(c)\n",
        "                        for c in df.columns]).show()"
      ],
      "execution_count": 12,
      "outputs": [
        {
          "output_type": "stream",
          "name": "stdout",
          "text": [
            "+------------+------+-------+\n",
            "|creator_name|userid|comment|\n",
            "+------------+------+-------+\n",
            "|       32050|   565|   1060|\n",
            "+------------+------+-------+\n",
            "\n"
          ]
        }
      ]
    },
    {
      "cell_type": "code",
      "metadata": {
        "colab": {
          "base_uri": "https://localhost:8080/"
        },
        "id": "XE2x2KMIVKSs",
        "outputId": "64dc7371-ad36-419a-d1aa-71dd0571337b"
      },
      "source": [
        "# As we can see the dataframe contains a lot of null or missing values, we need to drop them all.\n",
        "df = df.dropna()\n",
        "df.count()"
      ],
      "execution_count": 13,
      "outputs": [
        {
          "output_type": "execute_result",
          "data": {
            "text/plain": [
              "5786944"
            ]
          },
          "metadata": {},
          "execution_count": 13
        }
      ]
    },
    {
      "cell_type": "markdown",
      "metadata": {
        "id": "SbDlWQKdXig2"
      },
      "source": [
        "In the comment column, all words related to cat or dog need to be picked out and labeled for later use.\n",
        "\n",
        "*   To verify if the users have preference of dog or cat\n",
        "*   To analyze everything regarding dog and cat\n",
        "*   To identify whether the comment creators are the owners of dog or cat\n",
        "\n",
        "\n",
        "\n"
      ]
    },
    {
      "cell_type": "code",
      "metadata": {
        "colab": {
          "base_uri": "https://localhost:8080/"
        },
        "id": "f91AKYsfKaFw",
        "outputId": "0e505cc1-ba81-4a4a-da6b-908be5dfb507"
      },
      "source": [
        "from pyspark.sql.functions import when, col\n",
        "\n",
        "df = df.withColumn('label',\\\n",
        "                   (when(col('comment').like('%my dog$'), 1)\\\n",
        "                    .when(col('comment').like('%my cat%'), 1)\\\n",
        "                    .when(col('comment').like('%I have a dog%'), 1)\\\n",
        "                    .when(col('comment').like('%I have a cat%'), 1)\\\n",
        "                    .when(col('comment').like('%cat that I have%'), 1)\\\n",
        "                    .when(col('comment').like('%dog that I have%'), 1)\\\n",
        "                    .when(col('comment').like('%my puppy%'), 1)\\\n",
        "                    .when(col('comment').like('%my pup%'), 1)\\\n",
        "                    .when(col('comment').like('%my kitty%'), 1)\\\n",
        "                    .when(col('comment').like('%my pussy%'), 1)\\\n",
        "                    .when(col('comment').like('%my doggy%'), 1)\\\n",
        "                    .when(col('comment').like('%my kitten%'), 1)\\\n",
        "                    .when(col('comment').like('%I adopted a dog%'), 1)\\\n",
        "                    .when(col('comment').like('%I adopted a cat%'), 1)\\\n",
        "                    .otherwise(0)))\n",
        "df.registerTempTable('comment_view')\n",
        "df.show(5)"
      ],
      "execution_count": 14,
      "outputs": [
        {
          "output_type": "stream",
          "name": "stdout",
          "text": [
            "+-------------+------+--------------------+-----+\n",
            "| creator_name|userid|             comment|label|\n",
            "+-------------+------+--------------------+-----+\n",
            "| Doug The Pug|    87|I shared this to ...|    0|\n",
            "| Doug The Pug|    87|  Super cute  😀🐕🐶|    0|\n",
            "|  bulletproof|   530|stop saying get e...|    0|\n",
            "|Meu Zoológico|   670|Tenho uma jiboia ...|    0|\n",
            "|       ojatro|  1031|I wanna see what ...|    0|\n",
            "+-------------+------+--------------------+-----+\n",
            "only showing top 5 rows\n",
            "\n"
          ]
        }
      ]
    },
    {
      "cell_type": "code",
      "metadata": {
        "colab": {
          "base_uri": "https://localhost:8080/",
          "height": 223
        },
        "id": "N10wt_KoctRA",
        "outputId": "e944a9b4-2dd3-4574-cb76-69417834c3d5"
      },
      "source": [
        "df_pet = df.filter(col('label')==1)\n",
        "owner_id = df_pet.select('userid').distinct()\n",
        "print(f'At the current step, we assume there are {owner_id.count()} owners of cat or dog.')\n",
        "owner_id.toPandas().head()"
      ],
      "execution_count": 15,
      "outputs": [
        {
          "output_type": "stream",
          "name": "stdout",
          "text": [
            "At the current step, we assume there are 17606 owners of cat or dog.\n"
          ]
        },
        {
          "output_type": "execute_result",
          "data": {
            "text/html": [
              "<div>\n",
              "<style scoped>\n",
              "    .dataframe tbody tr th:only-of-type {\n",
              "        vertical-align: middle;\n",
              "    }\n",
              "\n",
              "    .dataframe tbody tr th {\n",
              "        vertical-align: top;\n",
              "    }\n",
              "\n",
              "    .dataframe thead th {\n",
              "        text-align: right;\n",
              "    }\n",
              "</style>\n",
              "<table border=\"1\" class=\"dataframe\">\n",
              "  <thead>\n",
              "    <tr style=\"text-align: right;\">\n",
              "      <th></th>\n",
              "      <th>userid</th>\n",
              "    </tr>\n",
              "  </thead>\n",
              "  <tbody>\n",
              "    <tr>\n",
              "      <th>0</th>\n",
              "      <td>812785</td>\n",
              "    </tr>\n",
              "    <tr>\n",
              "      <th>1</th>\n",
              "      <td>1581040</td>\n",
              "    </tr>\n",
              "    <tr>\n",
              "      <th>2</th>\n",
              "      <td>2173360</td>\n",
              "    </tr>\n",
              "    <tr>\n",
              "      <th>3</th>\n",
              "      <td>1004717</td>\n",
              "    </tr>\n",
              "    <tr>\n",
              "      <th>4</th>\n",
              "      <td>352569</td>\n",
              "    </tr>\n",
              "  </tbody>\n",
              "</table>\n",
              "</div>"
            ],
            "text/plain": [
              "     userid\n",
              "0    812785\n",
              "1   1581040\n",
              "2   2173360\n",
              "3   1004717\n",
              "4    352569"
            ]
          },
          "metadata": {},
          "execution_count": 15
        }
      ]
    },
    {
      "cell_type": "markdown",
      "metadata": {
        "id": "7wr3AIZ9hmas"
      },
      "source": [
        "## 1. Data Preprocessing"
      ]
    },
    {
      "cell_type": "code",
      "metadata": {
        "id": "H8rxzvQWeiSf"
      },
      "source": [
        "from pyspark.ml.feature import RegexTokenizer, Word2Vec\n",
        "from pyspark.ml.classification import LogisticRegression\n",
        "from pyspark.ml import Pipeline\n",
        "\n",
        "# RegexTokenizer allows more advanced tokenization based on regular expression (regex) matching.\n",
        "# Word2Vec is an Estimator which takes sequences of words representing documents and trains a Word2VecModel. \n",
        "# The model maps each word to a unique fixed-size vector. The Word2VecModel transforms each document into a vector \n",
        "# using the average of all words in the document; this vector can then be used as features for prediction, \n",
        "# document similarity calculations, etc. \n",
        "\n",
        "regexTokenizer = RegexTokenizer(inputCol=\"comment\", outputCol=\"words\", pattern=\"\\\\W\")\n",
        "word2vec = Word2Vec(inputCol='words', outputCol='features')\n",
        "pipeline = Pipeline(stages=[regexTokenizer, word2vec])"
      ],
      "execution_count": 16,
      "outputs": []
    },
    {
      "cell_type": "code",
      "metadata": {
        "colab": {
          "base_uri": "https://localhost:8080/"
        },
        "id": "_l_aGQQOgr-V",
        "outputId": "7a5dec90-6133-4d02-812c-0baea6982f16"
      },
      "source": [
        "df_pipeline = pipeline.fit(df)\n",
        "dataset = df_pipeline.transform(df)\n",
        "dataset.show(5)"
      ],
      "execution_count": 17,
      "outputs": [
        {
          "output_type": "stream",
          "name": "stdout",
          "text": [
            "+-------------+------+--------------------+-----+--------------------+--------------------+\n",
            "| creator_name|userid|             comment|label|               words|            features|\n",
            "+-------------+------+--------------------+-----+--------------------+--------------------+\n",
            "| Doug The Pug|    87|I shared this to ...|    0|[i, shared, this,...|[0.07503372532400...|\n",
            "| Doug The Pug|    87|  Super cute  😀🐕🐶|    0|       [super, cute]|[0.28366623818874...|\n",
            "|  bulletproof|   530|stop saying get e...|    0|[stop, saying, ge...|[0.05312312208116...|\n",
            "|Meu Zoológico|   670|Tenho uma jiboia ...|    0|[tenho, uma, jibo...|[0.18793341874455...|\n",
            "|       ojatro|  1031|I wanna see what ...|    0|[i, wanna, see, w...|[0.07654312185265...|\n",
            "+-------------+------+--------------------+-----+--------------------+--------------------+\n",
            "only showing top 5 rows\n",
            "\n"
          ]
        }
      ]
    },
    {
      "cell_type": "markdown",
      "metadata": {
        "id": "aGytOi7Dke4q"
      },
      "source": [
        "Because the label of the dataset contains 0 and 1. In order not to split data into homogeneous subsets, here we are going to apply Stratified Sampling method so that a sampling consisting of these subsets is execuated according to the percentages given in the parameters."
      ]
    },
    {
      "cell_type": "code",
      "metadata": {
        "colab": {
          "base_uri": "https://localhost:8080/"
        },
        "id": "K0Cd47wVkRtT",
        "outputId": "0948c5f5-1569-4ad6-9a0c-8faf47aae7f5"
      },
      "source": [
        "dataset.groupBy('label').count().orderBy('count').show()"
      ],
      "execution_count": 18,
      "outputs": [
        {
          "output_type": "stream",
          "name": "stdout",
          "text": [
            "+-----+-------+\n",
            "|label|  count|\n",
            "+-----+-------+\n",
            "|    1|  20052|\n",
            "|    0|5766892|\n",
            "+-----+-------+\n",
            "\n"
          ]
        }
      ]
    },
    {
      "cell_type": "code",
      "metadata": {
        "id": "67ZN7W2go9XZ"
      },
      "source": [
        "# split dataset with label = 1 into training and test datasets\n",
        "train_1, test_1 = dataset.filter(col('label')==1).randomSplit([0.7, 0.3], seed = 100)\n",
        "\n",
        "# split dataset with label = 0 into training dataset\n",
        "train_0, label_ex = dataset.filter(col('label')==0).randomSplit([0.005, 0.995], seed = 100)\n",
        "# split the 99.5% dataset with label = 1 again into test dataset\n",
        "test_0, label_ex1 = label_ex.randomSplit([0.002, 0.998], seed = 100)"
      ],
      "execution_count": 19,
      "outputs": []
    },
    {
      "cell_type": "code",
      "metadata": {
        "id": "JSG2Gf580pR-"
      },
      "source": [
        "df_train = train_0.union(train_1) # 0.8 (label=0) union 0.005 (label=1)\n",
        "df_test = test_0.union(test_1) # 0.2 (label=0) union 0.00199 (label=1)"
      ],
      "execution_count": 20,
      "outputs": []
    },
    {
      "cell_type": "code",
      "metadata": {
        "colab": {
          "base_uri": "https://localhost:8080/",
          "height": 292
        },
        "id": "H2Nc-arL3WZM",
        "outputId": "28d44122-aa05-4482-d21f-9eebcb855ef6"
      },
      "source": [
        "df_train.toPandas().head()"
      ],
      "execution_count": 21,
      "outputs": [
        {
          "output_type": "execute_result",
          "data": {
            "text/html": [
              "<div>\n",
              "<style scoped>\n",
              "    .dataframe tbody tr th:only-of-type {\n",
              "        vertical-align: middle;\n",
              "    }\n",
              "\n",
              "    .dataframe tbody tr th {\n",
              "        vertical-align: top;\n",
              "    }\n",
              "\n",
              "    .dataframe thead th {\n",
              "        text-align: right;\n",
              "    }\n",
              "</style>\n",
              "<table border=\"1\" class=\"dataframe\">\n",
              "  <thead>\n",
              "    <tr style=\"text-align: right;\">\n",
              "      <th></th>\n",
              "      <th>creator_name</th>\n",
              "      <th>userid</th>\n",
              "      <th>comment</th>\n",
              "      <th>label</th>\n",
              "      <th>words</th>\n",
              "      <th>features</th>\n",
              "    </tr>\n",
              "  </thead>\n",
              "  <tbody>\n",
              "    <tr>\n",
              "      <th>0</th>\n",
              "      <td>#CameraLord™ • Kor Capital</td>\n",
              "      <td>368152</td>\n",
              "      <td>https://youtu.be/byw247Bp3Wg bos</td>\n",
              "      <td>0</td>\n",
              "      <td>[https, youtu, be, byw247bp3wg, bos]</td>\n",
              "      <td>[0.5637779831886292, 0.08340241461992265, -0.0...</td>\n",
              "    </tr>\n",
              "    <tr>\n",
              "      <th>1</th>\n",
              "      <td>100% Madison</td>\n",
              "      <td>138327</td>\n",
              "      <td>cute(°▽°)！</td>\n",
              "      <td>0</td>\n",
              "      <td>[cute]</td>\n",
              "      <td>[0.15399721264839172, -0.2082165628671646, 0.0...</td>\n",
              "    </tr>\n",
              "    <tr>\n",
              "      <th>2</th>\n",
              "      <td>1013</td>\n",
              "      <td>1917348</td>\n",
              "      <td>The fkn bro</td>\n",
              "      <td>0</td>\n",
              "      <td>[the, fkn, bro]</td>\n",
              "      <td>[0.13335698346296945, 0.0802024354537328, -0.1...</td>\n",
              "    </tr>\n",
              "    <tr>\n",
              "      <th>3</th>\n",
              "      <td>101rabbits</td>\n",
              "      <td>1271013</td>\n",
              "      <td>Omg I LOVE your vids you take such good care o...</td>\n",
              "      <td>0</td>\n",
              "      <td>[omg, i, love, your, vids, you, take, such, go...</td>\n",
              "      <td>[-0.11075327585318258, -0.02640073786356619, 0...</td>\n",
              "    </tr>\n",
              "    <tr>\n",
              "      <th>4</th>\n",
              "      <td>101rabbits</td>\n",
              "      <td>1695251</td>\n",
              "      <td>Hi your vids help so much! Thx Ive got two bunnys</td>\n",
              "      <td>0</td>\n",
              "      <td>[hi, your, vids, help, so, much, thx, ive, got...</td>\n",
              "      <td>[0.0485401466827501, -0.018559655851938507, 0....</td>\n",
              "    </tr>\n",
              "  </tbody>\n",
              "</table>\n",
              "</div>"
            ],
            "text/plain": [
              "                 creator_name  ...                                           features\n",
              "0  #CameraLord™ • Kor Capital  ...  [0.5637779831886292, 0.08340241461992265, -0.0...\n",
              "1                100% Madison  ...  [0.15399721264839172, -0.2082165628671646, 0.0...\n",
              "2                        1013  ...  [0.13335698346296945, 0.0802024354537328, -0.1...\n",
              "3                  101rabbits  ...  [-0.11075327585318258, -0.02640073786356619, 0...\n",
              "4                  101rabbits  ...  [0.0485401466827501, -0.018559655851938507, 0....\n",
              "\n",
              "[5 rows x 6 columns]"
            ]
          },
          "metadata": {},
          "execution_count": 21
        }
      ]
    },
    {
      "cell_type": "code",
      "metadata": {
        "id": "3JwgJPd58cn3",
        "colab": {
          "base_uri": "https://localhost:8080/"
        },
        "outputId": "6da86586-7b8a-4acf-d60a-23391012b024"
      },
      "source": [
        "print(f'''\n",
        "Training Dataset Labeled 1 Count: {train_1.count()}\n",
        "Training Dataset Labeled 0 Count: {train_0.count()}\n",
        "The Ratio in Training Dataset is: {round(train_1.count()/train_0.count()*100, 2)}\n",
        "Test Dataset Labeled 1 Count: {test_1.count()}\n",
        "Test Dataset Labeled 0 Count: {test_0.count()}\n",
        "The Ratio in Test Dataset is: {round(test_1.count()/test_0.count()*100, 2)}\n",
        "Training Dataset Count: {df_train.count()}\n",
        "Test Dataset Count: {df_test.count()}\n",
        "''')"
      ],
      "execution_count": 22,
      "outputs": [
        {
          "output_type": "stream",
          "name": "stdout",
          "text": [
            "\n",
            "Training Dataset Labeled 1 Count: 13989\n",
            "Training Dataset Labeled 0 Count: 28737\n",
            "The Ratio in Training Dataset is: 48.68\n",
            "Test Dataset Labeled 1 Count: 6063\n",
            "Test Dataset Labeled 0 Count: 11506\n",
            "The Ratio in Test Dataset is: 52.69\n",
            "Training Dataset Count: 42726\n",
            "Test Dataset Count: 17569\n",
            "\n"
          ]
        }
      ]
    },
    {
      "cell_type": "markdown",
      "metadata": {
        "id": "_CxPDUOP026a"
      },
      "source": [
        "## 2. Modeling  \n",
        "There will be three models applied on:\n",
        "\n",
        "\n",
        "*   Logistic Regression \n",
        "*   Random Forests\n",
        "*   Gradient Boosting Trees\n",
        "\n",
        "The best performance one will be selected."
      ]
    },
    {
      "cell_type": "markdown",
      "metadata": {
        "id": "NOOtnos5Dhtz"
      },
      "source": [
        "###2.1 Logistic Regression for Binary Classification"
      ]
    },
    {
      "cell_type": "code",
      "metadata": {
        "id": "f1SrmTkB1ypH"
      },
      "source": [
        "from pyspark.ml.classification import LogisticRegression\n",
        "\n",
        "# create the multinomial family for binary classification\n",
        "lr = LogisticRegression(maxIter=10, regParam=0.3, elasticNetParam=0.8, family='binomial')\n",
        "\n",
        "# train model with training dataset\n",
        "lrModel = lr.fit(df_train)"
      ],
      "execution_count": 23,
      "outputs": []
    },
    {
      "cell_type": "code",
      "metadata": {
        "id": "ykWrlq7Q1cO-",
        "colab": {
          "base_uri": "https://localhost:8080/",
          "height": 395
        },
        "outputId": "b4c502de-47ca-4364-d3fd-fd2eb83895f0"
      },
      "source": [
        "predictions_lr = lrModel.transform(df_test)\n",
        "predictions_lr.toPandas().head()"
      ],
      "execution_count": 24,
      "outputs": [
        {
          "output_type": "execute_result",
          "data": {
            "text/html": [
              "<div>\n",
              "<style scoped>\n",
              "    .dataframe tbody tr th:only-of-type {\n",
              "        vertical-align: middle;\n",
              "    }\n",
              "\n",
              "    .dataframe tbody tr th {\n",
              "        vertical-align: top;\n",
              "    }\n",
              "\n",
              "    .dataframe thead th {\n",
              "        text-align: right;\n",
              "    }\n",
              "</style>\n",
              "<table border=\"1\" class=\"dataframe\">\n",
              "  <thead>\n",
              "    <tr style=\"text-align: right;\">\n",
              "      <th></th>\n",
              "      <th>creator_name</th>\n",
              "      <th>userid</th>\n",
              "      <th>comment</th>\n",
              "      <th>label</th>\n",
              "      <th>words</th>\n",
              "      <th>features</th>\n",
              "      <th>rawPrediction</th>\n",
              "      <th>probability</th>\n",
              "      <th>prediction</th>\n",
              "    </tr>\n",
              "  </thead>\n",
              "  <tbody>\n",
              "    <tr>\n",
              "      <th>0</th>\n",
              "      <td>#CameraLord™ • Kor Capital</td>\n",
              "      <td>368152</td>\n",
              "      <td>https://youtu.be/byw247Bp3Wg bos</td>\n",
              "      <td>0</td>\n",
              "      <td>[https, youtu, be, byw247bp3wg, bos]</td>\n",
              "      <td>[0.5637779831886292, 0.08340241461992265, -0.0...</td>\n",
              "      <td>[0.7199141845745709, -0.7199141845745709]</td>\n",
              "      <td>[0.6725881196461171, 0.3274118803538829]</td>\n",
              "      <td>0.0</td>\n",
              "    </tr>\n",
              "    <tr>\n",
              "      <th>1</th>\n",
              "      <td>1013</td>\n",
              "      <td>1996162</td>\n",
              "      <td>2:33 shoutout :*</td>\n",
              "      <td>0</td>\n",
              "      <td>[2, 33, shoutout]</td>\n",
              "      <td>[0.13424982627232868, -0.2499800125757853, -0....</td>\n",
              "      <td>[0.7199141845745709, -0.7199141845745709]</td>\n",
              "      <td>[0.6725881196461171, 0.3274118803538829]</td>\n",
              "      <td>0.0</td>\n",
              "    </tr>\n",
              "    <tr>\n",
              "      <th>2</th>\n",
              "      <td>101rabbits</td>\n",
              "      <td>1282495</td>\n",
              "      <td>Would love it if you could make longer vids li...</td>\n",
              "      <td>0</td>\n",
              "      <td>[would, love, it, if, you, could, make, longer...</td>\n",
              "      <td>[0.03143175390477364, -0.00445102140880548, -0...</td>\n",
              "      <td>[0.7199141845745709, -0.7199141845745709]</td>\n",
              "      <td>[0.6725881196461171, 0.3274118803538829]</td>\n",
              "      <td>0.0</td>\n",
              "    </tr>\n",
              "    <tr>\n",
              "      <th>3</th>\n",
              "      <td>101rabbits</td>\n",
              "      <td>1713410</td>\n",
              "      <td>Where did you find those boxes with vegetable ...</td>\n",
              "      <td>0</td>\n",
              "      <td>[where, did, you, find, those, boxes, with, ve...</td>\n",
              "      <td>[0.11158693923304477, -0.041031891480088234, -...</td>\n",
              "      <td>[0.7199141845745709, -0.7199141845745709]</td>\n",
              "      <td>[0.6725881196461171, 0.3274118803538829]</td>\n",
              "      <td>0.0</td>\n",
              "    </tr>\n",
              "    <tr>\n",
              "      <th>4</th>\n",
              "      <td>125 076 758 просмотров</td>\n",
              "      <td>1154433</td>\n",
              "      <td>ВЕСТА КРОСС КРАСАВИЦА :)</td>\n",
              "      <td>0</td>\n",
              "      <td>[]</td>\n",
              "      <td>(0.0, 0.0, 0.0, 0.0, 0.0, 0.0, 0.0, 0.0, 0.0, ...</td>\n",
              "      <td>[0.7199141845745709, -0.7199141845745709]</td>\n",
              "      <td>[0.6725881196461171, 0.3274118803538829]</td>\n",
              "      <td>0.0</td>\n",
              "    </tr>\n",
              "  </tbody>\n",
              "</table>\n",
              "</div>"
            ],
            "text/plain": [
              "                 creator_name  ... prediction\n",
              "0  #CameraLord™ • Kor Capital  ...        0.0\n",
              "1                        1013  ...        0.0\n",
              "2                  101rabbits  ...        0.0\n",
              "3                  101rabbits  ...        0.0\n",
              "4      125 076 758 просмотров  ...        0.0\n",
              "\n",
              "[5 rows x 9 columns]"
            ]
          },
          "metadata": {},
          "execution_count": 24
        }
      ]
    },
    {
      "cell_type": "code",
      "metadata": {
        "colab": {
          "base_uri": "https://localhost:8080/"
        },
        "id": "stg-arwxBrzR",
        "outputId": "9141d421-8f54-4858-b6ce-9d4ebe37f877"
      },
      "source": [
        "trainingSummary_lr = lrModel.summary\n",
        "print(\"area Under ROC: \" + str(trainingSummary_lr.areaUnderROC))\n",
        "print(\"fMeasure: \" + str(trainingSummary_lr.weightedFMeasure()))\n",
        "print(\"Accuracy: \" + str(trainingSummary_lr.accuracy))"
      ],
      "execution_count": 25,
      "outputs": [
        {
          "output_type": "stream",
          "name": "stdout",
          "text": [
            "area Under ROC: 0.5\n",
            "fMeasure: 0.54092788699804\n",
            "Accuracy: 0.6725881196461171\n"
          ]
        }
      ]
    },
    {
      "cell_type": "code",
      "metadata": {
        "id": "nrZflbfiFBLz"
      },
      "source": [
        "from pyspark.ml.tuning import ParamGridBuilder, CrossValidator\n",
        "\n",
        "# create ParamGrid for Cross Validation\n",
        "paramGrid = ParamGridBuilder()\\\n",
        "            .addGrid(lrModel.regParam, [0.01, 0.5, 1.0])\\\n",
        "            .addGrid(lrModel.elasticNetParam, [0.1, 0.5])\\\n",
        "            .addGrid(lrModel.maxIter, [1, 5, 10])\\\n",
        "            .build()"
      ],
      "execution_count": 26,
      "outputs": []
    },
    {
      "cell_type": "code",
      "metadata": {
        "id": "RhPpFHP6FsiP"
      },
      "source": [
        "from pyspark.ml.evaluation import BinaryClassificationEvaluator\n",
        "\n",
        "# create 5-fold Cross Validation\n",
        "cv_lr = CrossValidator(estimator=lr, estimatorParamMaps=paramGrid, evaluator=BinaryClassificationEvaluator(), numFolds=5)\n",
        "\n",
        "# run cross validation\n",
        "cvModel_lr = cv_lr.fit(df_train)"
      ],
      "execution_count": 27,
      "outputs": []
    },
    {
      "cell_type": "code",
      "metadata": {
        "colab": {
          "base_uri": "https://localhost:8080/"
        },
        "id": "442wXSUrgq_v",
        "outputId": "2d3d4163-af3f-4996-8cfd-ca3b7e235e04"
      },
      "source": [
        "# Take the best model of Losgitic Regression\n",
        "cvBestModel_lr = cvModel_lr.bestModel\n",
        "predictions_cv_lr = cvBestModel_lr.transform(df_test)\n",
        "lrEval = BinaryClassificationEvaluator().evaluate(predictions_cv_lr)\n",
        "print(\"Area Under ROC: {:.4f}\".format(lrEval))"
      ],
      "execution_count": 28,
      "outputs": [
        {
          "output_type": "stream",
          "name": "stdout",
          "text": [
            "Area Under ROC: 0.9452\n"
          ]
        }
      ]
    },
    {
      "cell_type": "code",
      "metadata": {
        "colab": {
          "base_uri": "https://localhost:8080/",
          "height": 295
        },
        "id": "TJRYiMDF225r",
        "outputId": "275f74dc-f1fc-4a0e-979e-b84d70cb484d"
      },
      "source": [
        "trainingSummary_cv1 = cvBestModel_lr.summary\n",
        "roc_cv1 = trainingSummary_cv1.roc.toPandas()\n",
        "plt.plot(roc_cv1['FPR'],roc_cv1['TPR'])\n",
        "plt.xlabel('False Positive Rate')\n",
        "plt.ylabel('True Positive Rate')\n",
        "plt.title('ROC Curve of Logistic Regression after CV')\n",
        "plt.show()"
      ],
      "execution_count": 29,
      "outputs": [
        {
          "output_type": "display_data",
          "data": {
            "image/png": "[encoded data removed]",
            "text/plain": [
              "<Figure size 432x288 with 1 Axes>"
            ]
          },
          "metadata": {
            "needs_background": "light"
          }
        }
      ]
    },
    {
      "cell_type": "markdown",
      "metadata": {
        "id": "fb35UvoiRlwF"
      },
      "source": [
        "###2.2 Random Forests"
      ]
    },
    {
      "cell_type": "code",
      "metadata": {
        "id": "5SETKqnTOz44"
      },
      "source": [
        "from pyspark.ml.classification import RandomForestClassifier\n",
        "\n",
        "# create an initial Random Forest model\n",
        "rf = RandomForestClassifier(featuresCol='features', labelCol='label', numTrees=20)\n",
        "# train model with training dataset\n",
        "rfModel = rf.fit(df_train)\n",
        "# make predictions on test dataset using the transform() method\n",
        "predictions_rf = rfModel.transform(df_test)"
      ],
      "execution_count": 30,
      "outputs": []
    },
    {
      "cell_type": "code",
      "metadata": {
        "colab": {
          "base_uri": "https://localhost:8080/",
          "height": 205
        },
        "id": "tVqDfqKTXu24",
        "outputId": "f874fa98-ff27-433e-d9b6-122ad9f9a6d3"
      },
      "source": [
        "predictions_rf.toPandas()[['probability', 'prediction', 'label']][:5]"
      ],
      "execution_count": 31,
      "outputs": [
        {
          "output_type": "execute_result",
          "data": {
            "text/html": [
              "<div>\n",
              "<style scoped>\n",
              "    .dataframe tbody tr th:only-of-type {\n",
              "        vertical-align: middle;\n",
              "    }\n",
              "\n",
              "    .dataframe tbody tr th {\n",
              "        vertical-align: top;\n",
              "    }\n",
              "\n",
              "    .dataframe thead th {\n",
              "        text-align: right;\n",
              "    }\n",
              "</style>\n",
              "<table border=\"1\" class=\"dataframe\">\n",
              "  <thead>\n",
              "    <tr style=\"text-align: right;\">\n",
              "      <th></th>\n",
              "      <th>probability</th>\n",
              "      <th>prediction</th>\n",
              "      <th>label</th>\n",
              "    </tr>\n",
              "  </thead>\n",
              "  <tbody>\n",
              "    <tr>\n",
              "      <th>0</th>\n",
              "      <td>[0.8585110618162716, 0.14148893818372837]</td>\n",
              "      <td>0.0</td>\n",
              "      <td>0</td>\n",
              "    </tr>\n",
              "    <tr>\n",
              "      <th>1</th>\n",
              "      <td>[0.7589797715749764, 0.24102022842502352]</td>\n",
              "      <td>0.0</td>\n",
              "      <td>0</td>\n",
              "    </tr>\n",
              "    <tr>\n",
              "      <th>2</th>\n",
              "      <td>[0.8652577417546693, 0.13474225824533065]</td>\n",
              "      <td>0.0</td>\n",
              "      <td>0</td>\n",
              "    </tr>\n",
              "    <tr>\n",
              "      <th>3</th>\n",
              "      <td>[0.8856599742258062, 0.11434002577419378]</td>\n",
              "      <td>0.0</td>\n",
              "      <td>0</td>\n",
              "    </tr>\n",
              "    <tr>\n",
              "      <th>4</th>\n",
              "      <td>[0.9002171810740982, 0.0997828189259017]</td>\n",
              "      <td>0.0</td>\n",
              "      <td>0</td>\n",
              "    </tr>\n",
              "  </tbody>\n",
              "</table>\n",
              "</div>"
            ],
            "text/plain": [
              "                                 probability  prediction  label\n",
              "0  [0.8585110618162716, 0.14148893818372837]         0.0      0\n",
              "1  [0.7589797715749764, 0.24102022842502352]         0.0      0\n",
              "2  [0.8652577417546693, 0.13474225824533065]         0.0      0\n",
              "3  [0.8856599742258062, 0.11434002577419378]         0.0      0\n",
              "4   [0.9002171810740982, 0.0997828189259017]         0.0      0"
            ]
          },
          "metadata": {},
          "execution_count": 31
        }
      ]
    },
    {
      "cell_type": "code",
      "metadata": {
        "colab": {
          "base_uri": "https://localhost:8080/"
        },
        "id": "NEmN3rYfUz7s",
        "outputId": "bdb05e5c-91ec-464f-b6f2-7fb782d6f518"
      },
      "source": [
        "evaluator = BinaryClassificationEvaluator(labelCol='label')\n",
        "\n",
        "rf_roc = evaluator.evaluate(predictions_rf, {evaluator.metricName: \"areaUnderROC\"})\n",
        "print(\"Area under ROC: {:.4f}\".format(rf_roc))"
      ],
      "execution_count": 32,
      "outputs": [
        {
          "output_type": "stream",
          "name": "stdout",
          "text": [
            "Area under ROC: 0.9500\n"
          ]
        }
      ]
    },
    {
      "cell_type": "code",
      "metadata": {
        "colab": {
          "base_uri": "https://localhost:8080/",
          "height": 295
        },
        "id": "bCSWnRnL3WYf",
        "outputId": "829f8773-296c-494a-f4dd-90c7b62108d5"
      },
      "source": [
        "trainingSummary_rf = rfModel.summary\n",
        "roc_rf = trainingSummary_rf.roc.toPandas()\n",
        "plt.plot(roc_rf['FPR'],roc_rf['TPR'])\n",
        "plt.xlabel('False Positive Rate')\n",
        "plt.ylabel('True Positive Rate')\n",
        "plt.title('ROC Curve of Random Forest')\n",
        "plt.show()"
      ],
      "execution_count": 33,
      "outputs": [
        {
          "output_type": "display_data",
          "data": {
            "image/png": "[encoded data removed]",
            "text/plain": [
              "<Figure size 432x288 with 1 Axes>"
            ]
          },
          "metadata": {
            "needs_background": "light"
          }
        }
      ]
    },
    {
      "cell_type": "markdown",
      "metadata": {
        "id": "OvloQCM95q4H"
      },
      "source": [
        "###2.3 Gradient Boosting Tree Model \n",
        "Gradient-Boosted Trees (GBTs) learning algorithm for classification. It supports binary labels, as well as both continuous and categorical features.\n",
        "\n"
      ]
    },
    {
      "cell_type": "code",
      "metadata": {
        "id": "QggkRxgM5wie"
      },
      "source": [
        "from pyspark.ml.classification import GBTClassifier\n",
        "from pyspark.ml import Pipeline\n",
        "from pyspark.ml.feature import StringIndexer, VectorIndexer"
      ],
      "execution_count": 34,
      "outputs": []
    },
    {
      "cell_type": "code",
      "metadata": {
        "id": "d0CrQlw0x8Fd"
      },
      "source": [
        "gbt = GBTClassifier(labelCol='label', featuresCol='features', maxIter=10)\n",
        "gbtModel = gbt.fit(df_train)\n",
        "predictions_gbt = gbtModel.transform(df_test)"
      ],
      "execution_count": 35,
      "outputs": []
    },
    {
      "cell_type": "code",
      "metadata": {
        "colab": {
          "base_uri": "https://localhost:8080/"
        },
        "id": "yMp4UNUJ5fJn",
        "outputId": "9e3e9367-b44d-44fd-94df-cf779c4858c0"
      },
      "source": [
        "evaluator_gbt = BinaryClassificationEvaluator(labelCol='label')\n",
        "gbt_roc = evaluator.evaluate(predictions_gbt, {evaluator.metricName: \"areaUnderROC\"})\n",
        "print(\"Area under ROC: {:.4f}\".format(gbt_roc))"
      ],
      "execution_count": 36,
      "outputs": [
        {
          "output_type": "stream",
          "name": "stdout",
          "text": [
            "Area under ROC: 0.9465\n"
          ]
        }
      ]
    },
    {
      "cell_type": "code",
      "metadata": {
        "id": "sCG9EXy_ZOhn"
      },
      "source": [
        "from pyspark.ml.evaluation import MulticlassClassificationEvaluator\n",
        "binEval = MulticlassClassificationEvaluator().setMetricName(\"accuracy\").setPredictionCol(\"prediction\").setLabelCol(\"label\")\n",
        "    \n",
        "gbt_accurancy = binEval.evaluate(predictions_gbt)"
      ],
      "execution_count": 37,
      "outputs": []
    },
    {
      "cell_type": "code",
      "metadata": {
        "id": "5ED5n7TcdtR6"
      },
      "source": [
        "# create ParamGrid for Cross Validation\n",
        "paramGrid_gbt = ParamGridBuilder()\\\n",
        "            .addGrid(gbtModel.maxDepth, [2, 4, 6])\\\n",
        "            .addGrid(gbtModel.maxBins, [20, 30])\\\n",
        "            .addGrid(gbtModel.maxIter, [1, 5, 10])\\\n",
        "            .build()"
      ],
      "execution_count": 38,
      "outputs": []
    },
    {
      "cell_type": "code",
      "metadata": {
        "id": "xVdwcrWCdlKG"
      },
      "source": [
        "# create 5-fold Cross Validation\n",
        "cv_gbt = CrossValidator(estimator=gbt, estimatorParamMaps=paramGrid_gbt, evaluator=BinaryClassificationEvaluator(), numFolds=5)\n",
        "\n",
        "# run cross validation\n",
        "cvModel_gbt = cv_gbt.fit(df_train)\n",
        "cvBestModel_gbt = cvModel_gbt.bestModel\n",
        "predictions_cv_gbt = cvBestModel_gbt.transform(df_test)"
      ],
      "execution_count": 39,
      "outputs": []
    },
    {
      "cell_type": "code",
      "metadata": {
        "colab": {
          "base_uri": "https://localhost:8080/"
        },
        "id": "aHW1tg3Vi-gP",
        "outputId": "409574d1-af47-458a-9c9a-4c6a27075bef"
      },
      "source": [
        "gbtEval = BinaryClassificationEvaluator().evaluate(predictions_cv_gbt)\n",
        "print(\"Area Under ROC: {:.4f}\".format(gbtEval))"
      ],
      "execution_count": 40,
      "outputs": [
        {
          "output_type": "stream",
          "name": "stdout",
          "text": [
            "Area Under ROC: 0.9526\n"
          ]
        }
      ]
    },
    {
      "cell_type": "markdown",
      "metadata": {
        "id": "eB5XpCEjVATP"
      },
      "source": [
        "###Get the best model\n",
        "**Logistic Regression:**\n",
        "> Area under ROC: 0.5   \n",
        "*After 5-fold cross validation:*   \n",
        "Area under ROC after CV: 0.9452 \n",
        "\n",
        "**Random Forests:** \n",
        "> Area under ROC: 0.9500  \n",
        "(I did not apply cross validation method for Random Forests because out-of-bag performance for a random forest is very similar to cross validation.)\n",
        "\n",
        "**Gradient Boosting Tree:**. \n",
        "> Area under ROC: 0.9465   \n",
        "*After 5-fold cross validation:*   \n",
        "Area under ROC after CV: 0.9526\n",
        "   \n",
        "  "
      ]
    },
    {
      "cell_type": "markdown",
      "metadata": {
        "id": "hv1lMhnPyyjb"
      },
      "source": [
        "#3. Model Application and Gaining Insights"
      ]
    },
    {
      "cell_type": "markdown",
      "metadata": {
        "id": "XpXyZneLSrLz"
      },
      "source": [
        "###3.1 Classifier All Users with Best Model - Gradient Boosting Tree"
      ]
    },
    {
      "cell_type": "code",
      "metadata": {
        "colab": {
          "base_uri": "https://localhost:8080/"
        },
        "id": "f2WmP5FtQ0Se",
        "outputId": "31c6c3ef-1ba4-4355-f440-908c485b134d"
      },
      "source": [
        "alldata = cvBestModel_gbt.transform(dataset)\n",
        "gbtEval_all = evaluator_gbt.evaluate(alldata)\n",
        "print(\"Area under ROC for the whole dataset: {:.4f}\".format(gbtEval_all))"
      ],
      "execution_count": 41,
      "outputs": [
        {
          "output_type": "stream",
          "name": "stdout",
          "text": [
            "Area under ROC for the whole dataset: 0.9541\n"
          ]
        }
      ]
    },
    {
      "cell_type": "markdown",
      "metadata": {
        "id": "sfT_P68GmeOd"
      },
      "source": [
        "**Important Note:**\n",
        "\n",
        "I was supposed to apply the best model on the whhole dataset. Due to the significant oversubscribed memory of free Google Colab for this big data (5,820,035), I'm going to choose the predicitons dataset of Gradient - Boosting - Model  for the following practices."
      ]
    },
    {
      "cell_type": "code",
      "metadata": {
        "colab": {
          "base_uri": "https://localhost:8080/",
          "height": 742
        },
        "id": "qMy07z9xnuNk",
        "outputId": "b9287f4b-73a6-4fc2-ace1-43e87d5df056"
      },
      "source": [
        "predictions_cv_gbt.toPandas().head(10)"
      ],
      "execution_count": 42,
      "outputs": [
        {
          "output_type": "execute_result",
          "data": {
            "text/html": [
              "<div>\n",
              "<style scoped>\n",
              "    .dataframe tbody tr th:only-of-type {\n",
              "        vertical-align: middle;\n",
              "    }\n",
              "\n",
              "    .dataframe tbody tr th {\n",
              "        vertical-align: top;\n",
              "    }\n",
              "\n",
              "    .dataframe thead th {\n",
              "        text-align: right;\n",
              "    }\n",
              "</style>\n",
              "<table border=\"1\" class=\"dataframe\">\n",
              "  <thead>\n",
              "    <tr style=\"text-align: right;\">\n",
              "      <th></th>\n",
              "      <th>creator_name</th>\n",
              "      <th>userid</th>\n",
              "      <th>comment</th>\n",
              "      <th>label</th>\n",
              "      <th>words</th>\n",
              "      <th>features</th>\n",
              "      <th>rawPrediction</th>\n",
              "      <th>probability</th>\n",
              "      <th>prediction</th>\n",
              "    </tr>\n",
              "  </thead>\n",
              "  <tbody>\n",
              "    <tr>\n",
              "      <th>0</th>\n",
              "      <td>#CameraLord™ • Kor Capital</td>\n",
              "      <td>368152</td>\n",
              "      <td>https://youtu.be/byw247Bp3Wg bos</td>\n",
              "      <td>0</td>\n",
              "      <td>[https, youtu, be, byw247bp3wg, bos]</td>\n",
              "      <td>[0.5637779831886292, 0.08340241461992265, -0.0...</td>\n",
              "      <td>[1.2448042534910029, -1.2448042534910029]</td>\n",
              "      <td>[0.9234101193357447, 0.07658988066425532]</td>\n",
              "      <td>0.0</td>\n",
              "    </tr>\n",
              "    <tr>\n",
              "      <th>1</th>\n",
              "      <td>1013</td>\n",
              "      <td>1996162</td>\n",
              "      <td>2:33 shoutout :*</td>\n",
              "      <td>0</td>\n",
              "      <td>[2, 33, shoutout]</td>\n",
              "      <td>[0.13424982627232868, -0.2499800125757853, -0....</td>\n",
              "      <td>[1.381827438370501, -1.381827438370501]</td>\n",
              "      <td>[0.940679909380121, 0.059320090619878973]</td>\n",
              "      <td>0.0</td>\n",
              "    </tr>\n",
              "    <tr>\n",
              "      <th>2</th>\n",
              "      <td>101rabbits</td>\n",
              "      <td>1282495</td>\n",
              "      <td>Would love it if you could make longer vids li...</td>\n",
              "      <td>0</td>\n",
              "      <td>[would, love, it, if, you, could, make, longer...</td>\n",
              "      <td>[0.03143175390477364, -0.00445102140880548, -0...</td>\n",
              "      <td>[1.2207258035780135, -1.2207258035780135]</td>\n",
              "      <td>[0.9199340716936077, 0.08006592830639225]</td>\n",
              "      <td>0.0</td>\n",
              "    </tr>\n",
              "    <tr>\n",
              "      <th>3</th>\n",
              "      <td>101rabbits</td>\n",
              "      <td>1713410</td>\n",
              "      <td>Where did you find those boxes with vegetable ...</td>\n",
              "      <td>0</td>\n",
              "      <td>[where, did, you, find, those, boxes, with, ve...</td>\n",
              "      <td>[0.11158693923304477, -0.041031891480088234, -...</td>\n",
              "      <td>[0.8183834506809807, -0.8183834506809807]</td>\n",
              "      <td>[0.8370945289238596, 0.1629054710761404]</td>\n",
              "      <td>0.0</td>\n",
              "    </tr>\n",
              "    <tr>\n",
              "      <th>4</th>\n",
              "      <td>125 076 758 просмотров</td>\n",
              "      <td>1154433</td>\n",
              "      <td>ВЕСТА КРОСС КРАСАВИЦА :)</td>\n",
              "      <td>0</td>\n",
              "      <td>[]</td>\n",
              "      <td>(0.0, 0.0, 0.0, 0.0, 0.0, 0.0, 0.0, 0.0, 0.0, ...</td>\n",
              "      <td>[1.3316604249103967, -1.3316604249103967]</td>\n",
              "      <td>[0.9348272825185209, 0.06517271748147913]</td>\n",
              "      <td>0.0</td>\n",
              "    </tr>\n",
              "    <tr>\n",
              "      <th>5</th>\n",
              "      <td>125 076 758 просмотров</td>\n",
              "      <td>1330308</td>\n",
              "      <td>Крутой</td>\n",
              "      <td>0</td>\n",
              "      <td>[]</td>\n",
              "      <td>(0.0, 0.0, 0.0, 0.0, 0.0, 0.0, 0.0, 0.0, 0.0, ...</td>\n",
              "      <td>[1.3316604249103967, -1.3316604249103967]</td>\n",
              "      <td>[0.9348272825185209, 0.06517271748147913]</td>\n",
              "      <td>0.0</td>\n",
              "    </tr>\n",
              "    <tr>\n",
              "      <th>6</th>\n",
              "      <td>2CAN.TV - Ripley the Toucan!</td>\n",
              "      <td>144752</td>\n",
              "      <td>I think youre banana has autism</td>\n",
              "      <td>0</td>\n",
              "      <td>[i, think, youre, banana, has, autism]</td>\n",
              "      <td>[-0.019910216952363648, -0.061144583548108734,...</td>\n",
              "      <td>[0.8576684200946078, -0.8576684200946078]</td>\n",
              "      <td>[0.8475272163518424, 0.15247278364815764]</td>\n",
              "      <td>0.0</td>\n",
              "    </tr>\n",
              "    <tr>\n",
              "      <th>7</th>\n",
              "      <td>2CAN.TV - Ripley the Toucan!</td>\n",
              "      <td>2401745</td>\n",
              "      <td>Thats a very unusual dog.</td>\n",
              "      <td>0</td>\n",
              "      <td>[thats, a, very, unusual, dog]</td>\n",
              "      <td>[0.07750902771949769, 0.10839851498603821, 0.0...</td>\n",
              "      <td>[1.1490396529190439, -1.1490396529190439]</td>\n",
              "      <td>[0.9087178429542137, 0.09128215704578635]</td>\n",
              "      <td>0.0</td>\n",
              "    </tr>\n",
              "    <tr>\n",
              "      <th>8</th>\n",
              "      <td>2CAN.TV - Ripley the Toucan!</td>\n",
              "      <td>2468925</td>\n",
              "      <td>This toucan’s noises make it so punchable.</td>\n",
              "      <td>0</td>\n",
              "      <td>[this, toucan, s, noises, make, it, so, puncha...</td>\n",
              "      <td>[0.0470953278709203, 0.03533136332407594, 0.08...</td>\n",
              "      <td>[0.8662934870345197, -0.8662934870345197]</td>\n",
              "      <td>[0.8497430235686878, 0.1502569764313122]</td>\n",
              "      <td>0.0</td>\n",
              "    </tr>\n",
              "    <tr>\n",
              "      <th>9</th>\n",
              "      <td>2CAN.TV - Ripley the Toucan!</td>\n",
              "      <td>556925</td>\n",
              "      <td>Looks like me when theres nothing to eat in th...</td>\n",
              "      <td>0</td>\n",
              "      <td>[looks, like, me, when, theres, nothing, to, e...</td>\n",
              "      <td>[0.06863511918874628, 0.08040078333579004, -0....</td>\n",
              "      <td>[1.2208404757056426, -1.2208404757056426]</td>\n",
              "      <td>[0.9199509625040125, 0.08004903749598746]</td>\n",
              "      <td>0.0</td>\n",
              "    </tr>\n",
              "  </tbody>\n",
              "</table>\n",
              "</div>"
            ],
            "text/plain": [
              "                   creator_name  ... prediction\n",
              "0    #CameraLord™ • Kor Capital  ...        0.0\n",
              "1                          1013  ...        0.0\n",
              "2                    101rabbits  ...        0.0\n",
              "3                    101rabbits  ...        0.0\n",
              "4        125 076 758 просмотров  ...        0.0\n",
              "5        125 076 758 просмотров  ...        0.0\n",
              "6  2CAN.TV - Ripley the Toucan!  ...        0.0\n",
              "7  2CAN.TV - Ripley the Toucan!  ...        0.0\n",
              "8  2CAN.TV - Ripley the Toucan!  ...        0.0\n",
              "9  2CAN.TV - Ripley the Toucan!  ...        0.0\n",
              "\n",
              "[10 rows x 9 columns]"
            ]
          },
          "metadata": {},
          "execution_count": 42
        }
      ]
    },
    {
      "cell_type": "markdown",
      "metadata": {
        "id": "wmcwWnTrgB6o"
      },
      "source": [
        "**Fractions of the users who owns cats or dogs:**\n",
        "\n",
        "> fraction_prediction = num of owner predicted / total users   \n",
        "> fraction_label = num of owner labeled / total users"
      ]
    },
    {
      "cell_type": "code",
      "metadata": {
        "colab": {
          "base_uri": "https://localhost:8080/"
        },
        "id": "WzbqeLiCjq8L",
        "outputId": "d3df7fbd-3152-4bea-bc52-aa52b95d8511"
      },
      "source": [
        "# Predict the number of pet owners\n",
        "import pyspark.sql.functions as F\n",
        "owner_pred_cnt = predictions_cv_gbt.filter(F.col('prediction') == 1.0).count()\n",
        " \n",
        "# Count the number of labeled owners\n",
        "owners_label_cnt = predictions_cv_gbt.filter(F.col('label') == 1).count()\n",
        " \n",
        "# Count number of total users\n",
        "total_users_cnt = predictions_cv_gbt.select('userid').distinct().count()\n",
        " \n",
        "# Estimate the fraction of all users who are cat/dog owners.\n",
        "fraction_pred = owner_pred_cnt / total_users_cnt\n",
        "fraction_label = owners_label_cnt / total_users_cnt\n",
        "print(\"Fraction of the predicted pet owner is\", round(fraction_pred, 3))\n",
        "print(\"Fraction of the labeled pet owner is\", round(fraction_label, 3))"
      ],
      "execution_count": 45,
      "outputs": [
        {
          "output_type": "stream",
          "name": "stdout",
          "text": [
            "Fraction of the predicted pet owner is 0.357\n",
            "Fraction of the labeled pet owner is 0.358\n"
          ]
        }
      ]
    },
    {
      "cell_type": "markdown",
      "metadata": {
        "id": "KtqI5QKXSmjO"
      },
      "source": [
        "###3.2 Get Insights of Users"
      ]
    },
    {
      "cell_type": "markdown",
      "metadata": {
        "id": "eeuMbSEGTdFc"
      },
      "source": [
        "**Remove Stop Words**"
      ]
    },
    {
      "cell_type": "code",
      "metadata": {
        "colab": {
          "base_uri": "https://localhost:8080/",
          "height": 431
        },
        "id": "tPFYEghsjqTj",
        "outputId": "c561a305-8e5f-4bff-8a47-461ec629d406"
      },
      "source": [
        "from pyspark.ml.feature import StopWordsRemover\n",
        " \n",
        "# add some words to stop words\n",
        "stopwordList = ['one', 'im', 'dont', 'really', 'time', 'got', 'much']\n",
        "stopwordList.extend(StopWordsRemover().getStopWords())\n",
        "\n",
        "# remove stop words\n",
        "remover = StopWordsRemover(inputCol=\"words\", outputCol='filtered_words', stopWords=stopwordList)\n",
        "filtered_words_df = remover.transform(predictions_cv_gbt).select('filtered_words').dropna()\n",
        "\n",
        " \n",
        "# Display\n",
        "filtered_words_df.printSchema()\n",
        "filtered_words_df.toPandas().head(10)"
      ],
      "execution_count": 69,
      "outputs": [
        {
          "output_type": "stream",
          "name": "stdout",
          "text": [
            "root\n",
            " |-- filtered_words: array (nullable = true)\n",
            " |    |-- element: string (containsNull = true)\n",
            "\n"
          ]
        },
        {
          "output_type": "execute_result",
          "data": {
            "text/html": [
              "<div>\n",
              "<style scoped>\n",
              "    .dataframe tbody tr th:only-of-type {\n",
              "        vertical-align: middle;\n",
              "    }\n",
              "\n",
              "    .dataframe tbody tr th {\n",
              "        vertical-align: top;\n",
              "    }\n",
              "\n",
              "    .dataframe thead th {\n",
              "        text-align: right;\n",
              "    }\n",
              "</style>\n",
              "<table border=\"1\" class=\"dataframe\">\n",
              "  <thead>\n",
              "    <tr style=\"text-align: right;\">\n",
              "      <th></th>\n",
              "      <th>filtered_words</th>\n",
              "    </tr>\n",
              "  </thead>\n",
              "  <tbody>\n",
              "    <tr>\n",
              "      <th>0</th>\n",
              "      <td>[https, youtu, byw247bp3wg, bos]</td>\n",
              "    </tr>\n",
              "    <tr>\n",
              "      <th>1</th>\n",
              "      <td>[2, 33, shoutout]</td>\n",
              "    </tr>\n",
              "    <tr>\n",
              "      <th>2</th>\n",
              "      <td>[love, make, longer, vids, like, agree]</td>\n",
              "    </tr>\n",
              "    <tr>\n",
              "      <th>3</th>\n",
              "      <td>[find, boxes, vegetable, die, sounds, awesome]</td>\n",
              "    </tr>\n",
              "    <tr>\n",
              "      <th>4</th>\n",
              "      <td>[]</td>\n",
              "    </tr>\n",
              "    <tr>\n",
              "      <th>5</th>\n",
              "      <td>[]</td>\n",
              "    </tr>\n",
              "    <tr>\n",
              "      <th>6</th>\n",
              "      <td>[think, youre, banana, autism]</td>\n",
              "    </tr>\n",
              "    <tr>\n",
              "      <th>7</th>\n",
              "      <td>[thats, unusual, dog]</td>\n",
              "    </tr>\n",
              "    <tr>\n",
              "      <th>8</th>\n",
              "      <td>[toucan, noises, make, punchable]</td>\n",
              "    </tr>\n",
              "    <tr>\n",
              "      <th>9</th>\n",
              "      <td>[looks, like, theres, nothing, eat, kitchen]</td>\n",
              "    </tr>\n",
              "  </tbody>\n",
              "</table>\n",
              "</div>"
            ],
            "text/plain": [
              "                                   filtered_words\n",
              "0                [https, youtu, byw247bp3wg, bos]\n",
              "1                               [2, 33, shoutout]\n",
              "2         [love, make, longer, vids, like, agree]\n",
              "3  [find, boxes, vegetable, die, sounds, awesome]\n",
              "4                                              []\n",
              "5                                              []\n",
              "6                  [think, youre, banana, autism]\n",
              "7                           [thats, unusual, dog]\n",
              "8               [toucan, noises, make, punchable]\n",
              "9    [looks, like, theres, nothing, eat, kitchen]"
            ]
          },
          "metadata": {},
          "execution_count": 69
        }
      ]
    },
    {
      "cell_type": "markdown",
      "metadata": {
        "id": "Jj_JRAAFThmZ"
      },
      "source": [
        "**Look at the reasons from the text**"
      ]
    },
    {
      "cell_type": "code",
      "metadata": {
        "colab": {
          "base_uri": "https://localhost:8080/"
        },
        "id": "TVKkXKEkj0AO",
        "outputId": "e6a01315-2b87-4f0b-95b3-534dd303a196"
      },
      "source": [
        "from pyspark.sql.functions import explode\n",
        " \n",
        "wordsDF = (filtered_words_df\n",
        "                    .select(explode(filtered_words_df.filtered_words).alias('word')))\n",
        "words_count = wordsDF.groupby('word').count().orderBy('count', ascending = False)\n",
        "words_count.show()"
      ],
      "execution_count": 70,
      "outputs": [
        {
          "output_type": "stream",
          "name": "stdout",
          "text": [
            "+------+-----+\n",
            "|  word|count|\n",
            "+------+-----+\n",
            "|   cat| 5147|\n",
            "|  like| 3027|\n",
            "|  love| 2114|\n",
            "|  cats| 1902|\n",
            "|   get| 1334|\n",
            "|   dog| 1322|\n",
            "| video| 1025|\n",
            "|  know|  874|\n",
            "| looks|  785|\n",
            "|  good|  746|\n",
            "|  cute|  724|\n",
            "|   see|  720|\n",
            "| puppy|  683|\n",
            "|videos|  656|\n",
            "|  want|  651|\n",
            "|   lol|  637|\n",
            "| think|  600|\n",
            "|people|  576|\n",
            "|    go|  573|\n",
            "|kitten|  571|\n",
            "+------+-----+\n",
            "only showing top 20 rows\n",
            "\n"
          ]
        }
      ]
    },
    {
      "cell_type": "markdown",
      "metadata": {
        "id": "suvfB0qGUbUT"
      },
      "source": [
        "###3.4 Identify Creators with Cat or Dog Owners in the Audience"
      ]
    },
    {
      "cell_type": "code",
      "metadata": {
        "colab": {
          "base_uri": "https://localhost:8080/"
        },
        "id": "Kvs-J8skEROU",
        "outputId": "76f6eab2-86e2-429d-a6a3-c752a3bfeffe"
      },
      "source": [
        "# find the creators who are the cat/dog owners\n",
        "owner_creator_df = predictions_cv_gbt.filter(F.col('prediction') == 1.0).select('creator_name')\n",
        "\n",
        "# find the count of comments from those cat/dog owners\n",
        "owner_cnt = owner_creator_df.groupby('creator_name').count().orderBy('count', ascending=False)\n",
        "owner_cnt.show()"
      ],
      "execution_count": 52,
      "outputs": [
        {
          "output_type": "stream",
          "name": "stdout",
          "text": [
            "+--------------------+-----+\n",
            "|        creator_name|count|\n",
            "+--------------------+-----+\n",
            "|    Cole & Marmalade|  764|\n",
            "|        Robin Seplut|  491|\n",
            "|            The Dodo|  362|\n",
            "|  Taylor Nicole Dean|  277|\n",
            "|   Talking Kitty Cat|  274|\n",
            "|           meow meow|  237|\n",
            "|           Vet Ranch|  214|\n",
            "|    Brave Wilderness|  188|\n",
            "|Zak Georges Dog T...|  186|\n",
            "|          stacyvlogs|  184|\n",
            "|       Brian Barczyk|  175|\n",
            "|Hope For Paws - O...|  150|\n",
            "|       Cat Man Chris|  138|\n",
            "|     Gohan The Husky|  118|\n",
            "|      Kitten Academy|   99|\n",
            "|          MaxluvsMya|   95|\n",
            "|Gone to the Snow ...|   95|\n",
            "|             Steff J|   87|\n",
            "|          Funny Pets|   85|\n",
            "|     Viktor Larkhill|   77|\n",
            "+--------------------+-----+\n",
            "only showing top 20 rows\n",
            "\n"
          ]
        }
      ]
    },
    {
      "cell_type": "code",
      "metadata": {
        "colab": {
          "base_uri": "https://localhost:8080/"
        },
        "id": "x38PLth5Vka6",
        "outputId": "8fee942b-0418-41c0-c930-e0e1daf13aae"
      },
      "source": [
        "total_num = owner_creator_df.select('creator_name').distinct().count()\n",
        "print(\"The total number pet ownders is: \" + str(total_num))"
      ],
      "execution_count": 57,
      "outputs": [
        {
          "output_type": "stream",
          "name": "stdout",
          "text": [
            "The total number pet ownders is: 375\n"
          ]
        }
      ]
    },
    {
      "cell_type": "code",
      "metadata": {
        "colab": {
          "base_uri": "https://localhost:8080/"
        },
        "id": "uM2EvNBebdzM",
        "outputId": "c716cb94-a2b6-48b0-f217-3fe5ed26e189"
      },
      "source": [
        "top_owner = owner_cnt.limit(1)\n",
        "top_owner.show()"
      ],
      "execution_count": 58,
      "outputs": [
        {
          "output_type": "stream",
          "name": "stdout",
          "text": [
            "+----------------+-----+\n",
            "|    creator_name|count|\n",
            "+----------------+-----+\n",
            "|Cole & Marmalade|  764|\n",
            "+----------------+-----+\n",
            "\n"
          ]
        }
      ]
    },
    {
      "cell_type": "code",
      "metadata": {
        "colab": {
          "base_uri": "https://localhost:8080/"
        },
        "id": "uIMyL4CjiYeR",
        "outputId": "d9f3dca9-77dd-4cbf-b1e2-5c81fadd3281"
      },
      "source": [
        "all_creator = predictions_cv_gbt.select('creator_name')\n",
        "total_creator_num = all_creator.agg(F.sum('creator_name')).collect()[0][0]\n",
        "print('The ratio of top creator is {:.4f}'.format(764/total_creator_num))"
      ],
      "execution_count": 68,
      "outputs": [
        {
          "output_type": "stream",
          "name": "stdout",
          "text": [
            "The ratio of top creator is 0.3771\n"
          ]
        }
      ]
    },
    {
      "cell_type": "markdown",
      "metadata": {
        "id": "43Uaz27jotiO"
      },
      "source": [
        "#4. Summary"
      ]
    },
    {
      "cell_type": "markdown",
      "metadata": {
        "id": "0vEvPkmko-6c"
      },
      "source": [
        "**4.1 Project Overview**  \n",
        "This dataset was built up on the configuration for cat and/or dog owners with 3 columns -- creator_name, userid and comments, of which total comments were 5,820,035 pieces. The orignial dataset was unlabeled.\n",
        "\n",
        "**4.2 Data Cleaning and Modeling**  \n",
        "After dropping all null values, special words from comments related to dog and cat have been labeled as \"0 or 1\" by applying RegexTokenizer and Word2Vec. Logistic Regression, Random Forests and Gradient Boosting Trees models have been applied on the training dataset. Evevtually, Gradient Boosting Trees model has been selected with resepect to the best score of \"Area under ROC\".  \n",
        "\n",
        "**4.3 Model Application and Finding Insights**  \n",
        "The whole predicted dataset is supposed to be taken on analytics. Due to the significant oversubscribed memory of free Google Colab, the predicted test dataset is taken as substitude to obtain statistical insights of those dog/cat owners.\n",
        "\n",
        "**4.4 Data Analysis**  \n",
        "To identify if words matter is for users, pet ownders or creators, I extracted words from comments by using StopWordRemover to remove those meaningfulless words and count the frequencies of them. Then it has been found out they conveyed in a positive, sympathy and warmhearted way, such as \"like\", \"love\", \"good\", \"cute\" and etc.\n",
        "\n",
        "**4.5 Recommendation based on the Model Result**  \n",
        "Based on such a completed model, it could be applied for unsupervised machine learning like comments, text or documents on any websites with no limit to animal topics, video streaming and etc.\n",
        "\n"
      ]
    }
  ]
}