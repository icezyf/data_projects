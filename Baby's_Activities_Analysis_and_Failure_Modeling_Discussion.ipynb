{
  "nbformat": 4,
  "nbformat_minor": 0,
  "metadata": {
    "colab": {
      "name": "Baby's Activities Analysis and Failure Modeling Discussion.ipynb",
      "provenance": [],
      "collapsed_sections": [],
      "authorship_tag": "ABX9TyOwRl9jEC/iXQ8iMMzcZmVP",
      "include_colab_link": true
    },
    "kernelspec": {
      "name": "python3",
      "display_name": "Python 3"
    },
    "language_info": {
      "name": "python"
    }
  },
  "cells": [
    {
      "cell_type": "markdown",
      "metadata": {
        "id": "view-in-github",
        "colab_type": "text"
      },
      "source": [
        "<a href=\"https://colab.research.google.com/github/icezyf/data_projects/blob/main/Baby's_Activities_Analysis_and_Failure_Modeling_Discussion.ipynb\" target=\"_parent\"><img src=\"https://colab.research.google.com/assets/colab-badge.svg\" alt=\"Open In Colab\"/></a>"
      ]
    },
    {
      "cell_type": "markdown",
      "metadata": {
        "id": "yVRjcj1h-bsv"
      },
      "source": [
        "# **Baby's Actitivies Analysis**  \n",
        "For all those new parents like me, taking care of a baby, especially a newborn one, is absolutely challenging and exhausting because we are adapting each other and the baby is also trying to find little feet. We do not know when the baby is going to pee, poop, sleep, ill, cry for starving, etc. \n",
        "\n",
        "In this project, I am offering analysis, visualizations and simple predictions of my baby Timmons's activities as references for new parents. It's more understanding and adaptive for new mothers to breastfeed babies as well as pamper themselves. \n",
        "\n",
        "I logged everything about Timmons into [Baby Tracker App](https://nighp.com/babytracker/) for his first 6 months. This App enables users to download all records in desired formats, such as csv. However, the sizes of all datasets are very tiny so that I won't deep dive to develop into comprehensive modeling. Therefore, this project is more focusing on **OLAP and visualizations**. Other than that, people always focus on how to achieve successful models that are able to accurately predict but they miss out a very essential point that is failure analysis. Here comes with the angle of small datasets causing failure as well.\n"
      ]
    },
    {
      "cell_type": "markdown",
      "metadata": {
        "id": "JSOw-mjGa2tI"
      },
      "source": [
        "### **Content**\n",
        "0. Package and Data Loading\n",
        "\n",
        "1. Data Preprocessing\n",
        "\n",
        "2. Data Exploration\n",
        "\n",
        "3. Feature Engineering\n",
        "\n",
        "4. Supervised Model Training\n",
        "\n",
        "5. Unsupervised Model for Text\n",
        "\n"
      ]
    },
    {
      "cell_type": "markdown",
      "metadata": {
        "id": "tWjs6K9RPOsY"
      },
      "source": [
        "#0. Package and Data Loading"
      ]
    },
    {
      "cell_type": "code",
      "metadata": {
        "id": "qCla4XXAPTox"
      },
      "source": [
        "import numpy as np\n",
        "import pandas as pd\n",
        "import matplotlib.pyplot as plt\n",
        "import seaborn as sns\n",
        "import warnings\n",
        "warnings.filterwarnings('ignore')\n",
        "\n",
        "%matplotlib inline"
      ],
      "execution_count": null,
      "outputs": []
    },
    {
      "cell_type": "code",
      "metadata": {
        "colab": {
          "base_uri": "https://localhost:8080/"
        },
        "id": "EdyFK-E2-al_",
        "outputId": "b7c69488-0a03-4d7a-de11-3694c7f4d645"
      },
      "source": [
        "from google.colab import drive\n",
        "drive.mount('/content/drive')"
      ],
      "execution_count": null,
      "outputs": [
        {
          "output_type": "stream",
          "text": [
            "Mounted at /content/drive\n"
          ],
          "name": "stdout"
        }
      ]
    },
    {
      "cell_type": "code",
      "metadata": {
        "colab": {
          "base_uri": "https://localhost:8080/"
        },
        "id": "37fT8w9LP6mf",
        "outputId": "5f81edcb-e490-46f9-9a8f-548dbb34a718"
      },
      "source": [
        "!ls \"/content/drive/My Drive/Colab Notebooks/Data/baby tracking csv\""
      ],
      "execution_count": null,
      "outputs": [
        {
          "output_type": "stream",
          "text": [
            "pump.csv\t     Timmons_medication.csv\t Timmons_other_Feed.csv\n",
            "Timmons_diaper.csv   Timmons_nursing.csv\t Timmons_pumped.csv\n",
            "Timmons_formula.csv  Timmons_other_activity.csv  Timmons_sleep.csv\n"
          ],
          "name": "stdout"
        }
      ]
    },
    {
      "cell_type": "code",
      "metadata": {
        "id": "QDhPElX1QPAI"
      },
      "source": [
        "pumpDF = pd.read_csv(\"/content/drive/My Drive/Colab Notebooks/Data/baby tracking csv/pump.csv\")\n",
        "diaperDF = pd.read_csv(\"/content/drive/My Drive/Colab Notebooks/Data/baby tracking csv/Timmons_diaper.csv\")\n",
        "formulaDF = pd.read_csv(\"/content/drive/My Drive/Colab Notebooks/Data/baby tracking csv/Timmons_formula.csv\")\n",
        "medDF = pd.read_csv(\"/content/drive/My Drive/Colab Notebooks/Data/baby tracking csv/Timmons_medication.csv\")\n",
        "nursingDF = pd.read_csv(\"/content/drive/My Drive/Colab Notebooks/Data/baby tracking csv/Timmons_nursing.csv\")\n",
        "activityDF = pd.read_csv(\"/content/drive/My Drive/Colab Notebooks/Data/baby tracking csv/Timmons_other_activity.csv\")\n",
        "feedsDF = pd.read_csv(\"/content/drive/My Drive/Colab Notebooks/Data/baby tracking csv/Timmons_other_Feed.csv\")\n",
        "pumpedDF = pd.read_csv(\"/content/drive/My Drive/Colab Notebooks/Data/baby tracking csv/Timmons_pumped.csv\")\n",
        "sleepDF = pd.read_csv(\"/content/drive/My Drive/Colab Notebooks/Data/baby tracking csv/Timmons_sleep.csv\")"
      ],
      "execution_count": null,
      "outputs": []
    },
    {
      "cell_type": "markdown",
      "metadata": {
        "id": "zS-T1zVfdfjp"
      },
      "source": [
        "**Understand the Raw Data**"
      ]
    },
    {
      "cell_type": "code",
      "metadata": {
        "colab": {
          "base_uri": "https://localhost:8080/",
          "height": 292
        },
        "id": "jFsp5_tMQvxi",
        "outputId": "8a14c87a-2608-4dd3-86f4-269763f398e5"
      },
      "source": [
        "# pumped breast milk\n",
        "pumpDF.head()"
      ],
      "execution_count": null,
      "outputs": [
        {
          "output_type": "execute_result",
          "data": {
            "text/html": [
              "<div>\n",
              "<style scoped>\n",
              "    .dataframe tbody tr th:only-of-type {\n",
              "        vertical-align: middle;\n",
              "    }\n",
              "\n",
              "    .dataframe tbody tr th {\n",
              "        vertical-align: top;\n",
              "    }\n",
              "\n",
              "    .dataframe thead th {\n",
              "        text-align: right;\n",
              "    }\n",
              "</style>\n",
              "<table border=\"1\" class=\"dataframe\">\n",
              "  <thead>\n",
              "    <tr style=\"text-align: right;\">\n",
              "      <th></th>\n",
              "      <th>Time</th>\n",
              "      <th>Start Side</th>\n",
              "      <th>Left duration (min)</th>\n",
              "      <th>Right duration (min)</th>\n",
              "      <th>Total Duration (min)</th>\n",
              "      <th>Left amount (oz.)</th>\n",
              "      <th>Right amount (oz.)</th>\n",
              "      <th>Total amount (oz.)</th>\n",
              "      <th>Note</th>\n",
              "    </tr>\n",
              "  </thead>\n",
              "  <tbody>\n",
              "    <tr>\n",
              "      <th>0</th>\n",
              "      <td>2/16/20, 6:50 PM</td>\n",
              "      <td>NaN</td>\n",
              "      <td>18.0</td>\n",
              "      <td>18.0</td>\n",
              "      <td>36.0</td>\n",
              "      <td>0.75</td>\n",
              "      <td>0.75</td>\n",
              "      <td>1.50</td>\n",
              "      <td>NaN</td>\n",
              "    </tr>\n",
              "    <tr>\n",
              "      <th>1</th>\n",
              "      <td>2/13/20, 2:43 PM</td>\n",
              "      <td>NaN</td>\n",
              "      <td>15.0</td>\n",
              "      <td>15.0</td>\n",
              "      <td>30.0</td>\n",
              "      <td>0.50</td>\n",
              "      <td>0.50</td>\n",
              "      <td>1.00</td>\n",
              "      <td>NaN</td>\n",
              "    </tr>\n",
              "    <tr>\n",
              "      <th>2</th>\n",
              "      <td>2/11/20, 10:12 PM</td>\n",
              "      <td>NaN</td>\n",
              "      <td>15.0</td>\n",
              "      <td>15.0</td>\n",
              "      <td>30.0</td>\n",
              "      <td>0.25</td>\n",
              "      <td>0.50</td>\n",
              "      <td>0.75</td>\n",
              "      <td>NaN</td>\n",
              "    </tr>\n",
              "    <tr>\n",
              "      <th>3</th>\n",
              "      <td>2/11/20, 12:40 PM</td>\n",
              "      <td>NaN</td>\n",
              "      <td>17.0</td>\n",
              "      <td>17.0</td>\n",
              "      <td>34.0</td>\n",
              "      <td>0.50</td>\n",
              "      <td>0.50</td>\n",
              "      <td>1.00</td>\n",
              "      <td>NaN</td>\n",
              "    </tr>\n",
              "    <tr>\n",
              "      <th>4</th>\n",
              "      <td>2/8/20, 8:19 PM</td>\n",
              "      <td>NaN</td>\n",
              "      <td>17.0</td>\n",
              "      <td>17.0</td>\n",
              "      <td>34.0</td>\n",
              "      <td>1.00</td>\n",
              "      <td>0.50</td>\n",
              "      <td>1.50</td>\n",
              "      <td>NaN</td>\n",
              "    </tr>\n",
              "  </tbody>\n",
              "</table>\n",
              "</div>"
            ],
            "text/plain": [
              "                Time Start Side  ...  Total amount (oz.)  Note\n",
              "0   2/16/20, 6:50 PM        NaN  ...                1.50   NaN\n",
              "1   2/13/20, 2:43 PM        NaN  ...                1.00   NaN\n",
              "2  2/11/20, 10:12 PM        NaN  ...                0.75   NaN\n",
              "3  2/11/20, 12:40 PM        NaN  ...                1.00   NaN\n",
              "4    2/8/20, 8:19 PM        NaN  ...                1.50   NaN\n",
              "\n",
              "[5 rows x 9 columns]"
            ]
          },
          "metadata": {
            "tags": []
          },
          "execution_count": 5
        }
      ]
    },
    {
      "cell_type": "code",
      "metadata": {
        "colab": {
          "base_uri": "https://localhost:8080/"
        },
        "id": "X5had--xQhUM",
        "outputId": "2aede1c9-b6c9-4582-b4ce-edcdab1a7700"
      },
      "source": [
        "print(diaperDF.head())\n",
        "print(diaperDF.groupby('Status').count().sort_values(by='Time', ascending=False))"
      ],
      "execution_count": null,
      "outputs": [
        {
          "output_type": "stream",
          "text": [
            "      Baby              Time Status Note\n",
            "0  Timmons  5/23/20, 9:15 PM    Wet  NaN\n",
            "1  Timmons  5/23/20, 8:26 AM    Wet  NaN\n",
            "2  Timmons  5/23/20, 2:42 AM    Wet  NaN\n",
            "3  Timmons  5/22/20, 9:03 PM    Wet  NaN\n",
            "4  Timmons  5/22/20, 4:47 PM  Mixed  NaN\n",
            "        Baby  Time  Note\n",
            "Status                  \n",
            "Wet     1041  1041     1\n",
            "Mixed    197   197     0\n",
            "Dirty     27    27     0\n",
            "Dry        3     3     0\n"
          ],
          "name": "stdout"
        }
      ]
    },
    {
      "cell_type": "code",
      "metadata": {
        "colab": {
          "base_uri": "https://localhost:8080/",
          "height": 205
        },
        "id": "YhFjxoWLUWpK",
        "outputId": "a4269d64-78a1-410b-aaaf-93dff3a0f4cf"
      },
      "source": [
        "formulaDF.head()"
      ],
      "execution_count": null,
      "outputs": [
        {
          "output_type": "execute_result",
          "data": {
            "text/html": [
              "<div>\n",
              "<style scoped>\n",
              "    .dataframe tbody tr th:only-of-type {\n",
              "        vertical-align: middle;\n",
              "    }\n",
              "\n",
              "    .dataframe tbody tr th {\n",
              "        vertical-align: top;\n",
              "    }\n",
              "\n",
              "    .dataframe thead th {\n",
              "        text-align: right;\n",
              "    }\n",
              "</style>\n",
              "<table border=\"1\" class=\"dataframe\">\n",
              "  <thead>\n",
              "    <tr style=\"text-align: right;\">\n",
              "      <th></th>\n",
              "      <th>Baby</th>\n",
              "      <th>Time</th>\n",
              "      <th>Amount (oz.)</th>\n",
              "      <th>Note</th>\n",
              "    </tr>\n",
              "  </thead>\n",
              "  <tbody>\n",
              "    <tr>\n",
              "      <th>0</th>\n",
              "      <td>Timmons</td>\n",
              "      <td>5/23/20, 9:10 PM</td>\n",
              "      <td>5.0</td>\n",
              "      <td>NaN</td>\n",
              "    </tr>\n",
              "    <tr>\n",
              "      <th>1</th>\n",
              "      <td>Timmons</td>\n",
              "      <td>5/23/20, 8:20 AM</td>\n",
              "      <td>6.0</td>\n",
              "      <td>NaN</td>\n",
              "    </tr>\n",
              "    <tr>\n",
              "      <th>2</th>\n",
              "      <td>Timmons</td>\n",
              "      <td>5/23/20, 2:45 AM</td>\n",
              "      <td>3.0</td>\n",
              "      <td>NaN</td>\n",
              "    </tr>\n",
              "    <tr>\n",
              "      <th>3</th>\n",
              "      <td>Timmons</td>\n",
              "      <td>5/22/20, 9:30 PM</td>\n",
              "      <td>5.0</td>\n",
              "      <td>NaN</td>\n",
              "    </tr>\n",
              "    <tr>\n",
              "      <th>4</th>\n",
              "      <td>Timmons</td>\n",
              "      <td>5/22/20, 11:30 AM</td>\n",
              "      <td>5.0</td>\n",
              "      <td>NaN</td>\n",
              "    </tr>\n",
              "  </tbody>\n",
              "</table>\n",
              "</div>"
            ],
            "text/plain": [
              "      Baby               Time  Amount (oz.) Note\n",
              "0  Timmons   5/23/20, 9:10 PM           5.0  NaN\n",
              "1  Timmons   5/23/20, 8:20 AM           6.0  NaN\n",
              "2  Timmons   5/23/20, 2:45 AM           3.0  NaN\n",
              "3  Timmons   5/22/20, 9:30 PM           5.0  NaN\n",
              "4  Timmons  5/22/20, 11:30 AM           5.0  NaN"
            ]
          },
          "metadata": {
            "tags": []
          },
          "execution_count": 7
        }
      ]
    },
    {
      "cell_type": "code",
      "metadata": {
        "colab": {
          "base_uri": "https://localhost:8080/"
        },
        "id": "thwqjq-CUaf1",
        "outputId": "c0ffbefc-1a1a-46b3-ab4e-545bc468b2ff"
      },
      "source": [
        "# taking medicines\n",
        "print(medDF.head())\n",
        "print(medDF.groupby('Medication').count().sort_values(by='Time', ascending=False))"
      ],
      "execution_count": null,
      "outputs": [
        {
          "output_type": "stream",
          "text": [
            "      Baby              Time   Medication Description Amount  Note\n",
            "0  Timmons   5/6/20, 7:55 PM  Gripe Water       Colic   5 ml   NaN\n",
            "1  Timmons  1/30/20, 3:45 AM  Gripe Water       Colic   5 ml   NaN\n",
            "2  Timmons  1/27/20, 7:59 AM  Gripe Water       Colic   5 ml   NaN\n",
            "3  Timmons  1/25/20, 5:39 AM  Gripe Water       Colic   5 ml   NaN\n",
            "4  Timmons  1/23/20, 4:41 AM  Gripe Water       Colic   5 ml   NaN\n",
            "                          Baby  Time  Description  Amount  Note\n",
            "Medication                                                     \n",
            "Gripe Water                 26    26           26      26     0\n",
            "Eye Antibiotics Ointment    15    15            0      15     0\n",
            "Tylenol Infant               1     1            0       1     0\n"
          ],
          "name": "stdout"
        }
      ]
    },
    {
      "cell_type": "code",
      "metadata": {
        "colab": {
          "base_uri": "https://localhost:8080/",
          "height": 205
        },
        "id": "qqgB0FUTUd8I",
        "outputId": "e2446a28-045b-4226-c0b9-bbb4b1971076"
      },
      "source": [
        "# breastfeeding\n",
        "nursingDF.head()"
      ],
      "execution_count": null,
      "outputs": [
        {
          "output_type": "execute_result",
          "data": {
            "text/html": [
              "<div>\n",
              "<style scoped>\n",
              "    .dataframe tbody tr th:only-of-type {\n",
              "        vertical-align: middle;\n",
              "    }\n",
              "\n",
              "    .dataframe tbody tr th {\n",
              "        vertical-align: top;\n",
              "    }\n",
              "\n",
              "    .dataframe thead th {\n",
              "        text-align: right;\n",
              "    }\n",
              "</style>\n",
              "<table border=\"1\" class=\"dataframe\">\n",
              "  <thead>\n",
              "    <tr style=\"text-align: right;\">\n",
              "      <th></th>\n",
              "      <th>Baby</th>\n",
              "      <th>Time</th>\n",
              "      <th>Start Side</th>\n",
              "      <th>Left duration (min)</th>\n",
              "      <th>Right duration (min)</th>\n",
              "      <th>Total Duration (min)</th>\n",
              "      <th>Note</th>\n",
              "    </tr>\n",
              "  </thead>\n",
              "  <tbody>\n",
              "    <tr>\n",
              "      <th>0</th>\n",
              "      <td>Timmons</td>\n",
              "      <td>2/21/20, 10:09 PM</td>\n",
              "      <td>Left</td>\n",
              "      <td>7</td>\n",
              "      <td>0</td>\n",
              "      <td>0</td>\n",
              "      <td>NaN</td>\n",
              "    </tr>\n",
              "    <tr>\n",
              "      <th>1</th>\n",
              "      <td>Timmons</td>\n",
              "      <td>2/21/20, 9:35 PM</td>\n",
              "      <td>Right</td>\n",
              "      <td>0</td>\n",
              "      <td>34</td>\n",
              "      <td>0</td>\n",
              "      <td>NaN</td>\n",
              "    </tr>\n",
              "    <tr>\n",
              "      <th>2</th>\n",
              "      <td>Timmons</td>\n",
              "      <td>2/15/20, 3:18 PM</td>\n",
              "      <td>Left</td>\n",
              "      <td>0</td>\n",
              "      <td>30</td>\n",
              "      <td>0</td>\n",
              "      <td>NaN</td>\n",
              "    </tr>\n",
              "    <tr>\n",
              "      <th>3</th>\n",
              "      <td>Timmons</td>\n",
              "      <td>2/15/20, 3:09 PM</td>\n",
              "      <td>Left</td>\n",
              "      <td>8</td>\n",
              "      <td>0</td>\n",
              "      <td>0</td>\n",
              "      <td>NaN</td>\n",
              "    </tr>\n",
              "    <tr>\n",
              "      <th>4</th>\n",
              "      <td>Timmons</td>\n",
              "      <td>2/15/20, 6:13 AM</td>\n",
              "      <td>Left</td>\n",
              "      <td>16</td>\n",
              "      <td>0</td>\n",
              "      <td>0</td>\n",
              "      <td>NaN</td>\n",
              "    </tr>\n",
              "  </tbody>\n",
              "</table>\n",
              "</div>"
            ],
            "text/plain": [
              "      Baby               Time  ... Total Duration (min)  Note\n",
              "0  Timmons  2/21/20, 10:09 PM  ...                    0   NaN\n",
              "1  Timmons   2/21/20, 9:35 PM  ...                    0   NaN\n",
              "2  Timmons   2/15/20, 3:18 PM  ...                    0   NaN\n",
              "3  Timmons   2/15/20, 3:09 PM  ...                    0   NaN\n",
              "4  Timmons   2/15/20, 6:13 AM  ...                    0   NaN\n",
              "\n",
              "[5 rows x 7 columns]"
            ]
          },
          "metadata": {
            "tags": []
          },
          "execution_count": 9
        }
      ]
    },
    {
      "cell_type": "code",
      "metadata": {
        "colab": {
          "base_uri": "https://localhost:8080/"
        },
        "id": "W0-uoCpQUhwR",
        "outputId": "c9be8a81-698b-41b2-f491-15808222c40a"
      },
      "source": [
        "print(activityDF.head())\n",
        "print(activityDF.groupby('Other activity').count().sort_values(by='Time', ascending=False))\n",
        "# drop this dataframe as not enough orders"
      ],
      "execution_count": null,
      "outputs": [
        {
          "output_type": "stream",
          "text": [
            "      Baby              Time Other activity  Duration(minutes) Note\n",
            "0  Timmons   1/4/20, 6:44 AM    Medications                  1  NaN\n",
            "1  Timmons   1/2/20, 8:01 PM    Medications                  1  NaN\n",
            "2  Timmons   1/2/20, 6:17 AM    Medications                  1  NaN\n",
            "3  Timmons  1/1/20, 10:32 PM    Medications                  1  NaN\n",
            "4  Timmons   1/1/20, 5:30 AM    Medications                  1  NaN\n",
            "                          Baby  Time  Duration(minutes)  Note\n",
            "Other activity                                               \n",
            "Medications                 51    51                 51     4\n",
            "Wash PatPat                  6     6                  6     0\n",
            "Play Time                    5     5                  5     0\n",
            "Bath Time                    4     4                  4     0\n",
            "Not Enough Records Today     1     1                  1     0\n",
            "Tummy Time                   1     1                  1     0\n"
          ],
          "name": "stdout"
        }
      ]
    },
    {
      "cell_type": "code",
      "metadata": {
        "colab": {
          "base_uri": "https://localhost:8080/"
        },
        "id": "wYHXhPiaUlqN",
        "outputId": "6748ec95-c7bb-4643-fc43-2f20ab421e49"
      },
      "source": [
        "print(feedsDF.head())\n",
        "print(feedsDF.groupby('Other Food').count().sort_values('Time', ascending=False))"
      ],
      "execution_count": null,
      "outputs": [
        {
          "output_type": "stream",
          "text": [
            "      Baby              Time  ...     Unit                                      Note\n",
            "0  Timmons  5/23/20, 6:30 PM  ...  Scoops                                Apple, Date\n",
            "1  Timmons  5/23/20, 6:30 PM  ...       oz                                       NaN\n",
            "2  Timmons  5/23/20, 6:30 PM  ...       oz                                       NaN\n",
            "3  Timmons  5/23/20, 2:30 PM  ...  Scoops   Potato, Tomato, Celery, Apple, Broccoli \n",
            "4  Timmons  5/23/20, 2:30 PM  ...       oz                                       NaN\n",
            "\n",
            "[5 rows x 6 columns]\n",
            "            Baby  Time  Amount  Unit  Note\n",
            "Other Food                                \n",
            "Cereal        96    96      96    96    82\n",
            "Fruit         59    59      59    59     1\n",
            "Veggies       59    59      59    59     3\n"
          ],
          "name": "stdout"
        }
      ]
    },
    {
      "cell_type": "code",
      "metadata": {
        "colab": {
          "base_uri": "https://localhost:8080/"
        },
        "id": "tDvDtmXpXPoI",
        "outputId": "6047c46a-5b6b-4943-ba7b-02add0eef621"
      },
      "source": [
        "# drank the pumped breast milk\n",
        "print(pumpedDF.head())"
      ],
      "execution_count": null,
      "outputs": [
        {
          "output_type": "stream",
          "text": [
            "      Baby               Time  Amount (oz.)  Note\n",
            "0  Timmons   2/27/20, 6:13 PM          1.00   NaN\n",
            "1  Timmons   2/22/20, 9:00 PM          1.00   NaN\n",
            "2  Timmons   2/18/20, 6:04 PM          2.70   NaN\n",
            "3  Timmons  2/11/20, 11:15 PM          2.70   NaN\n",
            "4  Timmons   2/8/20, 10:00 PM          4.73   NaN\n"
          ],
          "name": "stdout"
        }
      ]
    },
    {
      "cell_type": "code",
      "metadata": {
        "colab": {
          "base_uri": "https://localhost:8080/",
          "height": 205
        },
        "id": "2U7pKIyeYqaF",
        "outputId": "5333622f-49d2-4a35-8d58-0bdb76e5424b"
      },
      "source": [
        "sleepDF.head()"
      ],
      "execution_count": null,
      "outputs": [
        {
          "output_type": "execute_result",
          "data": {
            "text/html": [
              "<div>\n",
              "<style scoped>\n",
              "    .dataframe tbody tr th:only-of-type {\n",
              "        vertical-align: middle;\n",
              "    }\n",
              "\n",
              "    .dataframe tbody tr th {\n",
              "        vertical-align: top;\n",
              "    }\n",
              "\n",
              "    .dataframe thead th {\n",
              "        text-align: right;\n",
              "    }\n",
              "</style>\n",
              "<table border=\"1\" class=\"dataframe\">\n",
              "  <thead>\n",
              "    <tr style=\"text-align: right;\">\n",
              "      <th></th>\n",
              "      <th>Baby</th>\n",
              "      <th>Time</th>\n",
              "      <th>Duration(minutes)</th>\n",
              "      <th>Note</th>\n",
              "    </tr>\n",
              "  </thead>\n",
              "  <tbody>\n",
              "    <tr>\n",
              "      <th>0</th>\n",
              "      <td>Timmons</td>\n",
              "      <td>5/23/20, 9:43 PM</td>\n",
              "      <td>503</td>\n",
              "      <td>NaN</td>\n",
              "    </tr>\n",
              "    <tr>\n",
              "      <th>1</th>\n",
              "      <td>Timmons</td>\n",
              "      <td>5/23/20, 7:00 PM</td>\n",
              "      <td>26</td>\n",
              "      <td>NaN</td>\n",
              "    </tr>\n",
              "    <tr>\n",
              "      <th>2</th>\n",
              "      <td>Timmons</td>\n",
              "      <td>5/23/20, 9:30 AM</td>\n",
              "      <td>90</td>\n",
              "      <td>NaN</td>\n",
              "    </tr>\n",
              "    <tr>\n",
              "      <th>3</th>\n",
              "      <td>Timmons</td>\n",
              "      <td>5/23/20, 3:00 AM</td>\n",
              "      <td>287</td>\n",
              "      <td>NaN</td>\n",
              "    </tr>\n",
              "    <tr>\n",
              "      <th>4</th>\n",
              "      <td>Timmons</td>\n",
              "      <td>5/22/20, 9:40 PM</td>\n",
              "      <td>300</td>\n",
              "      <td>NaN</td>\n",
              "    </tr>\n",
              "  </tbody>\n",
              "</table>\n",
              "</div>"
            ],
            "text/plain": [
              "      Baby              Time  Duration(minutes) Note\n",
              "0  Timmons  5/23/20, 9:43 PM                503  NaN\n",
              "1  Timmons  5/23/20, 7:00 PM                 26  NaN\n",
              "2  Timmons  5/23/20, 9:30 AM                 90  NaN\n",
              "3  Timmons  5/23/20, 3:00 AM                287  NaN\n",
              "4  Timmons  5/22/20, 9:40 PM                300  NaN"
            ]
          },
          "metadata": {
            "tags": []
          },
          "execution_count": 13
        }
      ]
    },
    {
      "cell_type": "markdown",
      "metadata": {
        "id": "_72-wmHkbIdV"
      },
      "source": [
        "#1. Data Preprocessing"
      ]
    },
    {
      "cell_type": "code",
      "metadata": {
        "id": "loQ95eWbYyL6"
      },
      "source": [
        "pump = pumpDF.drop(['Start Side', 'Note'], axis=1)\n",
        "diaper = diaperDF.drop(['Baby', 'Note'], axis=1)\n",
        "formula = formulaDF.drop(['Baby', 'Note'], axis=1)\n",
        "med = medDF.drop(['Baby', 'Note'], axis=1)\n",
        "nursing = nursingDF.drop(['Baby', 'Start Side', 'Note'], axis=1)\n",
        "feeds = feedsDF.drop(['Baby'], axis=1)\n",
        "pumped = pumpedDF.drop(['Baby', 'Note'], axis=1)\n",
        "sleep = sleepDF.drop(['Baby', 'Note'], axis=1)"
      ],
      "execution_count": null,
      "outputs": []
    },
    {
      "cell_type": "code",
      "metadata": {
        "colab": {
          "base_uri": "https://localhost:8080/"
        },
        "id": "X2lWeZPxi_3V",
        "outputId": "df71af40-bb79-421c-fcf5-2bdbf3dfac82"
      },
      "source": [
        "print(pump.info())\n",
        "print(\"**************************************\")\n",
        "print(formula.info())\n",
        "print(\"**************************************\")\n",
        "print(nursing.info())\n",
        "print(\"**************************************\")\n",
        "print(pumped.info())\n",
        "print(\"**************************************\")\n",
        "print(diaper.info())\n",
        "print(\"**************************************\")\n",
        "print(med.info())\n",
        "print(\"**************************************\")\n",
        "print(feeds.info())\n",
        "print(\"**************************************\")\n",
        "print(sleep.info())"
      ],
      "execution_count": null,
      "outputs": [
        {
          "output_type": "stream",
          "text": [
            "<class 'pandas.core.frame.DataFrame'>\n",
            "RangeIndex: 172 entries, 0 to 171\n",
            "Data columns (total 7 columns):\n",
            " #   Column                Non-Null Count  Dtype  \n",
            "---  ------                --------------  -----  \n",
            " 0   Time                  172 non-null    object \n",
            " 1   Left duration (min)   166 non-null    float64\n",
            " 2   Right duration (min)  166 non-null    float64\n",
            " 3   Total Duration (min)  166 non-null    float64\n",
            " 4   Left amount (oz.)     172 non-null    float64\n",
            " 5   Right amount (oz.)    168 non-null    float64\n",
            " 6   Total amount (oz.)    172 non-null    float64\n",
            "dtypes: float64(6), object(1)\n",
            "memory usage: 9.5+ KB\n",
            "None\n",
            "**************************************\n",
            "<class 'pandas.core.frame.DataFrame'>\n",
            "RangeIndex: 950 entries, 0 to 949\n",
            "Data columns (total 2 columns):\n",
            " #   Column        Non-Null Count  Dtype  \n",
            "---  ------        --------------  -----  \n",
            " 0   Time          950 non-null    object \n",
            " 1   Amount (oz.)  950 non-null    float64\n",
            "dtypes: float64(1), object(1)\n",
            "memory usage: 15.0+ KB\n",
            "None\n",
            "**************************************\n",
            "<class 'pandas.core.frame.DataFrame'>\n",
            "RangeIndex: 258 entries, 0 to 257\n",
            "Data columns (total 4 columns):\n",
            " #   Column                Non-Null Count  Dtype \n",
            "---  ------                --------------  ----- \n",
            " 0   Time                  258 non-null    object\n",
            " 1   Left duration (min)   258 non-null    int64 \n",
            " 2   Right duration (min)  258 non-null    int64 \n",
            " 3   Total Duration (min)  258 non-null    int64 \n",
            "dtypes: int64(3), object(1)\n",
            "memory usage: 8.2+ KB\n",
            "None\n",
            "**************************************\n",
            "<class 'pandas.core.frame.DataFrame'>\n",
            "RangeIndex: 93 entries, 0 to 92\n",
            "Data columns (total 2 columns):\n",
            " #   Column        Non-Null Count  Dtype  \n",
            "---  ------        --------------  -----  \n",
            " 0   Time          93 non-null     object \n",
            " 1   Amount (oz.)  93 non-null     float64\n",
            "dtypes: float64(1), object(1)\n",
            "memory usage: 1.6+ KB\n",
            "None\n",
            "**************************************\n",
            "<class 'pandas.core.frame.DataFrame'>\n",
            "RangeIndex: 1268 entries, 0 to 1267\n",
            "Data columns (total 2 columns):\n",
            " #   Column  Non-Null Count  Dtype \n",
            "---  ------  --------------  ----- \n",
            " 0   Time    1268 non-null   object\n",
            " 1   Status  1268 non-null   object\n",
            "dtypes: object(2)\n",
            "memory usage: 19.9+ KB\n",
            "None\n",
            "**************************************\n",
            "<class 'pandas.core.frame.DataFrame'>\n",
            "RangeIndex: 42 entries, 0 to 41\n",
            "Data columns (total 4 columns):\n",
            " #   Column       Non-Null Count  Dtype \n",
            "---  ------       --------------  ----- \n",
            " 0   Time         42 non-null     object\n",
            " 1   Medication   42 non-null     object\n",
            " 2   Description  26 non-null     object\n",
            " 3   Amount       42 non-null     object\n",
            "dtypes: object(4)\n",
            "memory usage: 1.4+ KB\n",
            "None\n",
            "**************************************\n",
            "<class 'pandas.core.frame.DataFrame'>\n",
            "RangeIndex: 214 entries, 0 to 213\n",
            "Data columns (total 5 columns):\n",
            " #   Column      Non-Null Count  Dtype \n",
            "---  ------      --------------  ----- \n",
            " 0   Time        214 non-null    object\n",
            " 1   Other Food  214 non-null    object\n",
            " 2   Amount      214 non-null    object\n",
            " 3   Unit        214 non-null    object\n",
            " 4   Note        86 non-null     object\n",
            "dtypes: object(5)\n",
            "memory usage: 8.5+ KB\n",
            "None\n",
            "**************************************\n",
            "<class 'pandas.core.frame.DataFrame'>\n",
            "RangeIndex: 1082 entries, 0 to 1081\n",
            "Data columns (total 2 columns):\n",
            " #   Column             Non-Null Count  Dtype \n",
            "---  ------             --------------  ----- \n",
            " 0   Time               1082 non-null   object\n",
            " 1   Duration(minutes)  1082 non-null   int64 \n",
            "dtypes: int64(1), object(1)\n",
            "memory usage: 17.0+ KB\n",
            "None\n"
          ],
          "name": "stdout"
        }
      ]
    },
    {
      "cell_type": "code",
      "metadata": {
        "id": "HDnZzGb7wq9Q"
      },
      "source": [
        "pump = pump.rename(columns={'Left duration (min)':'LeftDur', 'Right duration (min)':'RightDur', 'Total Duration (min)':'TotalDur',\\\n",
        "                                'Left amount (oz.)':'LeftAmt', 'Right amount (oz.)':'RightAmt', 'Total amount (oz.)':'TotalAmt'})\n",
        "formula = formula.rename(columns={'Amount (oz.)':'Amount'})\n",
        "nursing = nursing.rename(columns={'Left duration (min)':'LeftDur', 'Right duration (min)':'RightDur', 'Total Duration (min)':'TotalDur'})\n",
        "pumped = pumped.rename(columns={'Amount (oz.)':'Amount'})\n",
        "feeds = feeds.rename(columns={'Other Food':'OtherFood'})\n",
        "sleep = sleep.rename(columns={'Duration(minutes)':'Dur'})                                               "
      ],
      "execution_count": null,
      "outputs": []
    },
    {
      "cell_type": "markdown",
      "metadata": {
        "id": "1viKiXA0corU"
      },
      "source": [
        "**Extract Year, Month, Day, Day of Week, Hour, Minute from Time**"
      ]
    },
    {
      "cell_type": "code",
      "metadata": {
        "id": "As_gWM6eqFfS"
      },
      "source": [
        "pump['Time'] = pd.to_datetime(pump['Time'])\n",
        "formula['Time'] = pd.to_datetime(formula['Time'])\n",
        "nursing['Time'] = pd.to_datetime(nursing['Time'])\n",
        "pumped['Time'] = pd.to_datetime(pumped['Time'])\n",
        "diaper['Time'] = pd.to_datetime(diaper['Time'])\n",
        "med['Time'] = pd.to_datetime(med['Time'])\n",
        "feeds['Time'] = pd.to_datetime(feeds['Time'])\n",
        "sleep['Time'] = pd.to_datetime(sleep['Time'])"
      ],
      "execution_count": null,
      "outputs": []
    },
    {
      "cell_type": "code",
      "metadata": {
        "colab": {
          "base_uri": "https://localhost:8080/",
          "height": 205
        },
        "id": "labPrDzYtUTF",
        "outputId": "c1fc5e3f-095d-4364-d16b-c012cf6668ef"
      },
      "source": [
        "def extractTime(df):\n",
        "  df['Year'] = df['Time'].dt.year\n",
        "  df['Month']= df['Time'].dt.month\n",
        "  df['Day'] = df['Time'].dt.day\n",
        "  df['DoW'] = df['Time'].dt.dayofweek\n",
        "  df['Hour'] = df['Time'].dt.hour\n",
        "  df['Minute'] = df['Time'].dt.minute\n",
        "  \n",
        "\n",
        "extractTime(pump)\n",
        "extractTime(formula)\n",
        "extractTime(nursing)\n",
        "extractTime(pumped)\n",
        "extractTime(diaper)\n",
        "extractTime(med)\n",
        "extractTime(feeds)\n",
        "extractTime(sleep)\n",
        "\n",
        "# take an look of one example\n",
        "pump.head()"
      ],
      "execution_count": null,
      "outputs": [
        {
          "output_type": "execute_result",
          "data": {
            "text/html": [
              "<div>\n",
              "<style scoped>\n",
              "    .dataframe tbody tr th:only-of-type {\n",
              "        vertical-align: middle;\n",
              "    }\n",
              "\n",
              "    .dataframe tbody tr th {\n",
              "        vertical-align: top;\n",
              "    }\n",
              "\n",
              "    .dataframe thead th {\n",
              "        text-align: right;\n",
              "    }\n",
              "</style>\n",
              "<table border=\"1\" class=\"dataframe\">\n",
              "  <thead>\n",
              "    <tr style=\"text-align: right;\">\n",
              "      <th></th>\n",
              "      <th>Time</th>\n",
              "      <th>LeftDur</th>\n",
              "      <th>RightDur</th>\n",
              "      <th>TotalDur</th>\n",
              "      <th>LeftAmt</th>\n",
              "      <th>RightAmt</th>\n",
              "      <th>TotalAmt</th>\n",
              "      <th>Year</th>\n",
              "      <th>Month</th>\n",
              "      <th>Day</th>\n",
              "      <th>DoW</th>\n",
              "      <th>Hour</th>\n",
              "      <th>Minute</th>\n",
              "    </tr>\n",
              "  </thead>\n",
              "  <tbody>\n",
              "    <tr>\n",
              "      <th>0</th>\n",
              "      <td>2020-02-16 18:50:00</td>\n",
              "      <td>18.0</td>\n",
              "      <td>18.0</td>\n",
              "      <td>36.0</td>\n",
              "      <td>0.75</td>\n",
              "      <td>0.75</td>\n",
              "      <td>1.50</td>\n",
              "      <td>2020</td>\n",
              "      <td>2</td>\n",
              "      <td>16</td>\n",
              "      <td>6</td>\n",
              "      <td>18</td>\n",
              "      <td>50</td>\n",
              "    </tr>\n",
              "    <tr>\n",
              "      <th>1</th>\n",
              "      <td>2020-02-13 14:43:00</td>\n",
              "      <td>15.0</td>\n",
              "      <td>15.0</td>\n",
              "      <td>30.0</td>\n",
              "      <td>0.50</td>\n",
              "      <td>0.50</td>\n",
              "      <td>1.00</td>\n",
              "      <td>2020</td>\n",
              "      <td>2</td>\n",
              "      <td>13</td>\n",
              "      <td>3</td>\n",
              "      <td>14</td>\n",
              "      <td>43</td>\n",
              "    </tr>\n",
              "    <tr>\n",
              "      <th>2</th>\n",
              "      <td>2020-02-11 22:12:00</td>\n",
              "      <td>15.0</td>\n",
              "      <td>15.0</td>\n",
              "      <td>30.0</td>\n",
              "      <td>0.25</td>\n",
              "      <td>0.50</td>\n",
              "      <td>0.75</td>\n",
              "      <td>2020</td>\n",
              "      <td>2</td>\n",
              "      <td>11</td>\n",
              "      <td>1</td>\n",
              "      <td>22</td>\n",
              "      <td>12</td>\n",
              "    </tr>\n",
              "    <tr>\n",
              "      <th>3</th>\n",
              "      <td>2020-02-11 12:40:00</td>\n",
              "      <td>17.0</td>\n",
              "      <td>17.0</td>\n",
              "      <td>34.0</td>\n",
              "      <td>0.50</td>\n",
              "      <td>0.50</td>\n",
              "      <td>1.00</td>\n",
              "      <td>2020</td>\n",
              "      <td>2</td>\n",
              "      <td>11</td>\n",
              "      <td>1</td>\n",
              "      <td>12</td>\n",
              "      <td>40</td>\n",
              "    </tr>\n",
              "    <tr>\n",
              "      <th>4</th>\n",
              "      <td>2020-02-08 20:19:00</td>\n",
              "      <td>17.0</td>\n",
              "      <td>17.0</td>\n",
              "      <td>34.0</td>\n",
              "      <td>1.00</td>\n",
              "      <td>0.50</td>\n",
              "      <td>1.50</td>\n",
              "      <td>2020</td>\n",
              "      <td>2</td>\n",
              "      <td>8</td>\n",
              "      <td>5</td>\n",
              "      <td>20</td>\n",
              "      <td>19</td>\n",
              "    </tr>\n",
              "  </tbody>\n",
              "</table>\n",
              "</div>"
            ],
            "text/plain": [
              "                 Time  LeftDur  RightDur  TotalDur  ...  Day  DoW  Hour  Minute\n",
              "0 2020-02-16 18:50:00     18.0      18.0      36.0  ...   16    6    18      50\n",
              "1 2020-02-13 14:43:00     15.0      15.0      30.0  ...   13    3    14      43\n",
              "2 2020-02-11 22:12:00     15.0      15.0      30.0  ...   11    1    22      12\n",
              "3 2020-02-11 12:40:00     17.0      17.0      34.0  ...   11    1    12      40\n",
              "4 2020-02-08 20:19:00     17.0      17.0      34.0  ...    8    5    20      19\n",
              "\n",
              "[5 rows x 13 columns]"
            ]
          },
          "metadata": {
            "tags": []
          },
          "execution_count": 18
        }
      ]
    },
    {
      "cell_type": "markdown",
      "metadata": {
        "id": "m09_HlwUdrhA"
      },
      "source": [
        "- **Extract Numbers from 'Amount' Column from feeds and med Dataframes**\n",
        "- **Convert 'object' type into 'float64'**"
      ]
    },
    {
      "cell_type": "code",
      "metadata": {
        "colab": {
          "base_uri": "https://localhost:8080/"
        },
        "id": "SU7_wSyUJqQP",
        "outputId": "b75d114f-4a16-4980-a684-1a97c3d7b03d"
      },
      "source": [
        "import re as re\n",
        "def find_number(text):\n",
        "  num = re.findall(r'[0-9]+', text)\n",
        "  return \" \".join(num)\n",
        "feeds['Amount']=feeds['Amount'].apply(lambda x: find_number(x))\n",
        "feeds['Amount'] = pd.to_numeric(feeds['Amount'], errors='coerce')\n",
        "feeds['Amount'].dtypes"
      ],
      "execution_count": null,
      "outputs": [
        {
          "output_type": "execute_result",
          "data": {
            "text/plain": [
              "dtype('float64')"
            ]
          },
          "metadata": {
            "tags": []
          },
          "execution_count": 19
        }
      ]
    },
    {
      "cell_type": "code",
      "metadata": {
        "colab": {
          "base_uri": "https://localhost:8080/"
        },
        "id": "BVQgDOT2nXqe",
        "outputId": "00880fab-a209-420c-b050-e502b912201b"
      },
      "source": [
        "# # extract number from Amount column in med dataframe\n",
        "def find_number(text):\n",
        "  num = re.findall(r'[0-9]+', text)\n",
        "  return \" \".join(num)\n",
        "med['Amount']=med['Amount'].apply(lambda x: find_number(x))\n",
        "med['Amount'] = pd.to_numeric(med['Amount'], errors='coerce')\n",
        "med['Amount'].dtypes"
      ],
      "execution_count": null,
      "outputs": [
        {
          "output_type": "execute_result",
          "data": {
            "text/plain": [
              "dtype('float64')"
            ]
          },
          "metadata": {
            "tags": []
          },
          "execution_count": 20
        }
      ]
    },
    {
      "cell_type": "markdown",
      "metadata": {
        "id": "GWNr6wi-bQVC"
      },
      "source": [
        "#2. Data Exploration"
      ]
    },
    {
      "cell_type": "markdown",
      "metadata": {
        "id": "Xm2yMB7CoPFR"
      },
      "source": [
        "##2.1 Feeding"
      ]
    },
    {
      "cell_type": "code",
      "metadata": {
        "colab": {
          "base_uri": "https://localhost:8080/",
          "height": 730
        },
        "id": "MTt9XJkecsUW",
        "outputId": "f348f25f-9f98-435a-8b7c-23b9c520611c"
      },
      "source": [
        "_,axes = plt.subplots(2,2, figsize=[20, 12])\n",
        "formula.groupby('Hour').Amount.sum().plot(kind='bar', rot=0, color='Orange',ax=axes[0][0])\n",
        "formula.groupby(['Year', 'Month']).Amount.sum().plot(color='Orange', ax=axes[0][1])\n",
        "pumped.groupby('Hour').Amount.sum().plot(kind='bar', rot=0, ax=axes[1][0])\n",
        "pumped.groupby(['Year', 'Month']).Amount.sum().plot(ax=axes[1][1])\n",
        "\n",
        "nursing.groupby(nursing.Hour)\n",
        "axes[0][0].set_title('Formula by Hour')\n",
        "axes[0][1].set_title('Formula by Month')\n",
        "axes[1][0].set_title('Pumped Breast Milk by Hour')\n",
        "axes[1][1].set_title('Pumped Breast Milk by Month')\n",
        "plt.show()"
      ],
      "execution_count": null,
      "outputs": [
        {
          "output_type": "display_data",
          "data": {
            "image/png": "[encoded data removed]",
            "text/plain": [
              "<Figure size 1440x864 with 4 Axes>"
            ]
          },
          "metadata": {
            "tags": [],
            "needs_background": "light"
          }
        }
      ]
    },
    {
      "cell_type": "code",
      "metadata": {
        "colab": {
          "base_uri": "https://localhost:8080/",
          "height": 463
        },
        "id": "2tqm9wKmAnd5",
        "outputId": "cd9d535b-e1a8-416d-a94f-96c6d536c81a"
      },
      "source": [
        "# total minutes of nursing per hour of the day\n",
        "plt.figure(figsize=(10, 7))\n",
        "plt.plot(nursing.groupby('Hour')['LeftDur'].sum(), color = 'black', ls = '--', marker = 's',label = 'Left Duration')\n",
        "plt.plot(nursing.groupby('Hour')['RightDur'].sum(), color = 'red', ls = '--', marker = 'o',label = 'Right Duration')\n",
        "plt.xlabel('Hour')\n",
        "plt.ylabel('Total Mintues')\n",
        "plt.title('Total Minutes of Nursing per Hour of the Day', fontsize=20)\n",
        "plt.legend()\n",
        "plt.show()"
      ],
      "execution_count": null,
      "outputs": [
        {
          "output_type": "display_data",
          "data": {
            "image/png": "[encoded data removed]",
            "text/plain": [
              "<Figure size 720x504 with 1 Axes>"
            ]
          },
          "metadata": {
            "tags": [],
            "needs_background": "light"
          }
        }
      ]
    },
    {
      "cell_type": "code",
      "metadata": {
        "colab": {
          "base_uri": "https://localhost:8080/",
          "height": 657
        },
        "id": "V73yoeqaa9cB",
        "outputId": "1d846688-6304-4e67-f654-4233f029ff6f"
      },
      "source": [
        "g = sns.FacetGrid(feeds, row = 'OtherFood', col='Month', hue = 'OtherFood')\n",
        "g = g.map(plt.scatter, 'Hour', 'Amount')\n",
        "g.add_legend()\n",
        "plt.show()"
      ],
      "execution_count": null,
      "outputs": [
        {
          "output_type": "display_data",
          "data": {
            "image/png": "[encoded data removed]",
            "text/plain": [
              "<Figure size 723.25x648 with 9 Axes>"
            ]
          },
          "metadata": {
            "tags": [],
            "needs_background": "light"
          }
        }
      ]
    },
    {
      "cell_type": "markdown",
      "metadata": {
        "id": "uMWLuxnafvQc"
      },
      "source": [
        "**Feeding Insights:**\n",
        "\n",
        "*   Formula was mostly taken at bedtime (9pm) and wakeup time (6-7am). The volume started to pick up at his 2nd month. So Timmons was mixed fed.\n",
        "\n",
        "*   Pumped milk was usually fed during lunch time (1-2pm), dinner time (5-6pm)and bedtime (8pm). Besides, Timmons also drank it during midnight. All that means I need to prepare pumped milk prior to these timings. My breastmilk was not that sufficient since Timmons's 3rd month.\n",
        "\n",
        "*   Nursing usually happened around 4pm and before bedtime.\n",
        "\n",
        "*   Cereal was the first solid food being introduced by the end of his 3rd month, followed by veggies and fruity favored cereal. Usually, it took place from 2pm - 5pm.\n",
        "\n",
        "\n",
        "\n",
        "\n"
      ]
    },
    {
      "cell_type": "markdown",
      "metadata": {
        "id": "0dDjwK4UdlqY"
      },
      "source": [
        "##2.2 Diaper"
      ]
    },
    {
      "cell_type": "code",
      "metadata": {
        "colab": {
          "base_uri": "https://localhost:8080/",
          "height": 732
        },
        "id": "EecRXnvWfN0i",
        "outputId": "c9dbd335-ed01-4320-c41a-e9424502a645"
      },
      "source": [
        "_,axes = plt.subplots(2, figsize=[16,12])\n",
        "sns.countplot(x='Status', hue='Status', data=diaper, ax=axes[0]) \n",
        "sns.countplot(x='Hour', hue='Status', data=diaper, ax=axes[1])\n",
        "axes[0].set_title('Total Number of Used Diapers per Status', fontsize=15)\n",
        "axes[1].set_title('Which Hour Diapers Changed Most', fontsize=15)\n",
        "plt.show()"
      ],
      "execution_count": null,
      "outputs": [
        {
          "output_type": "display_data",
          "data": {
            "image/png": "[encoded data removed]",
            "text/plain": [
              "<Figure size 1152x864 with 2 Axes>"
            ]
          },
          "metadata": {
            "tags": [],
            "needs_background": "light"
          }
        }
      ]
    },
    {
      "cell_type": "markdown",
      "metadata": {
        "id": "WXZEwwuCkuz_"
      },
      "source": [
        "**Diaper Insights:**\n",
        "\n",
        "\n",
        "*   Timmons prefered pooping around 3-4pm. Other than that, I usually changed a new diaper for him before bedtime, wakeup time and around 10am.\n",
        "\n"
      ]
    },
    {
      "cell_type": "markdown",
      "metadata": {
        "id": "BG_dxQJsh6AG"
      },
      "source": [
        "##2.3 Medicines during 6-month"
      ]
    },
    {
      "cell_type": "code",
      "metadata": {
        "colab": {
          "base_uri": "https://localhost:8080/",
          "height": 364
        },
        "id": "OFP5Rgvxmnh1",
        "outputId": "29ec8e98-ebda-4cb6-a2bf-949b487f9ee6"
      },
      "source": [
        "med.groupby('Medication')['Time'].count().plot(kind='bar', color='purple')\n",
        "plt.xticks(rotation=45)\n",
        "plt.show()"
      ],
      "execution_count": null,
      "outputs": [
        {
          "output_type": "display_data",
          "data": {
            "image/png": "[encoded data removed]",
            "text/plain": [
              "<Figure size 432x288 with 1 Axes>"
            ]
          },
          "metadata": {
            "tags": [],
            "needs_background": "light"
          }
        }
      ]
    },
    {
      "cell_type": "markdown",
      "metadata": {
        "id": "EzJ9Q-Hjmf6e"
      },
      "source": [
        "**Medicine Notes:**\n",
        "\n",
        "\n",
        "*   Gripe water can comfort infant's colic as Timmons was a colic sufferor.\n",
        "*   Tylenol was for vaccinations.\n",
        "*   Eye Antibiotics Ointment was for infant's eyes common case.\n",
        "\n",
        "\n",
        "\n"
      ]
    },
    {
      "cell_type": "markdown",
      "metadata": {
        "id": "9vau8HnBpo7w"
      },
      "source": [
        "##2.4 Sleeping"
      ]
    },
    {
      "cell_type": "code",
      "metadata": {
        "colab": {
          "base_uri": "https://localhost:8080/",
          "height": 388
        },
        "id": "MjAmn2NmvNgW",
        "outputId": "4bf0f5aa-2406-4c28-8d6a-3fa59d4ff820"
      },
      "source": [
        "plt.figure(figsize=[8, 6])\n",
        "sleep.groupby(['Year', 'Month']).Dur.sum().plot(color='navy', ls='--', marker='s')\n",
        "plt.show()"
      ],
      "execution_count": null,
      "outputs": [
        {
          "output_type": "display_data",
          "data": {
            "image/png": "[encoded data removed]",
            "text/plain": [
              "<Figure size 576x432 with 1 Axes>"
            ]
          },
          "metadata": {
            "tags": [],
            "needs_background": "light"
          }
        }
      ]
    },
    {
      "cell_type": "code",
      "metadata": {
        "colab": {
          "base_uri": "https://localhost:8080/",
          "height": 462
        },
        "id": "d1N36TlIuTEL",
        "outputId": "533ef372-2251-4344-9734-a910166c1172"
      },
      "source": [
        "plt.figure(figsize=(8, 6))\n",
        "g=sns.jointplot(x=sleep['Hour'], y=sleep['Dur'], kind='hex', color='cyan')\n",
        "g.set_axis_labels(\"Hour\",\"Duration in Minutes\", fontsize=14)\n",
        "plt.show()"
      ],
      "execution_count": null,
      "outputs": [
        {
          "output_type": "display_data",
          "data": {
            "text/plain": [
              "<Figure size 576x432 with 0 Axes>"
            ]
          },
          "metadata": {
            "tags": []
          }
        },
        {
          "output_type": "display_data",
          "data": {
            "image/png": "[encoded data removed]",
            "text/plain": [
              "<Figure size 432x432 with 3 Axes>"
            ]
          },
          "metadata": {
            "tags": [],
            "needs_background": "light"
          }
        }
      ]
    },
    {
      "cell_type": "markdown",
      "metadata": {
        "id": "p4PFErXpnomW"
      },
      "source": [
        "**Sleep Insights:**\n",
        "\n",
        "\n",
        "*   Here I need to admit that I might be too tired to log accurately during Timmons's 1st month. It is supposed that infacts sleep nearly a day during their 1st month. \n",
        "\n",
        "*   As mentioned above, Timmons is a colic sufferor so that he could not sleep safe and sound during his first 3 months. \n",
        "\n",
        "*   Apart from bedtime and napping, Timmons prefered dozing out around 3-4pm.\n",
        "\n",
        "\n",
        "\n",
        "\n"
      ]
    },
    {
      "cell_type": "markdown",
      "metadata": {
        "id": "nRkhHWrBfc3M"
      },
      "source": [
        "##2.5 Mother's Pumping Breastmilk"
      ]
    },
    {
      "cell_type": "code",
      "metadata": {
        "colab": {
          "base_uri": "https://localhost:8080/",
          "height": 279
        },
        "id": "gkcGQM6YMPvG",
        "outputId": "c0e81c96-0f7d-4329-e061-a53a7b3497e4"
      },
      "source": [
        "pump.groupby('Hour')['Year'].count().plot(kind='bar', color='BLACK')\n",
        "plt.xticks(rotation=360)\n",
        "plt.show()"
      ],
      "execution_count": null,
      "outputs": [
        {
          "output_type": "display_data",
          "data": {
            "image/png": "[encoded data removed]",
            "text/plain": [
              "<Figure size 432x288 with 1 Axes>"
            ]
          },
          "metadata": {
            "tags": [],
            "needs_background": "light"
          }
        }
      ]
    },
    {
      "cell_type": "code",
      "metadata": {
        "colab": {
          "base_uri": "https://localhost:8080/",
          "height": 726
        },
        "id": "w1DZ7YwqVNVb",
        "outputId": "ccc36896-24d5-4a07-f569-7db33eca3c9e"
      },
      "source": [
        "df = pump[['LeftAmt', 'RightAmt', 'LeftDur', 'RightDur']]\n",
        "sns.pairplot(df)\n",
        "plt.show()"
      ],
      "execution_count": null,
      "outputs": [
        {
          "output_type": "display_data",
          "data": {
            "image/png": "[encoded data removed]",
            "text/plain": [
              "<Figure size 720x720 with 20 Axes>"
            ]
          },
          "metadata": {
            "tags": [],
            "needs_background": "light"
          }
        }
      ]
    },
    {
      "cell_type": "markdown",
      "metadata": {
        "id": "1ejF0LK2p8bX"
      },
      "source": [
        "**My Notes:**\n",
        "\n",
        "\n",
        "*   Left and right breasts almost had same volume of milk but differnt pumping minutes.\n",
        "*   It was not always \"the longer I pumped, the more volume of milk I had\".\n",
        "\n",
        "*   I usually pumped milk at 10pm and 1pm, followed by 3am, 11pm and 12pm.\n",
        "\n",
        "\n",
        "\n",
        "\n"
      ]
    },
    {
      "cell_type": "markdown",
      "metadata": {
        "id": "Fi3SiQaw0KdI"
      },
      "source": [
        "#3. Feature Engineering"
      ]
    },
    {
      "cell_type": "code",
      "metadata": {
        "colab": {
          "base_uri": "https://localhost:8080/"
        },
        "id": "4StHvo_50J73",
        "outputId": "f698d407-193b-4bbc-9cae-d7f7ad192f88"
      },
      "source": [
        "print(f'''\n",
        "shape of pump df is {pump.shape}\n",
        "shape of formula df is {formula.shape}\n",
        "shape of nursing df is {nursing.shape}\n",
        "shape of pumped df is {pumped.shape}\n",
        "shape of diaper df is {diaper.shape}\n",
        "shape of medicine df is {med.shape}\n",
        "shape of other Food df is {feeds.shape}\n",
        "shape of sleep df is {sleep.shape}\n",
        "''')"
      ],
      "execution_count": null,
      "outputs": [
        {
          "output_type": "stream",
          "text": [
            "\n",
            "shape of pump df is (172, 13)\n",
            "shape of formula df is (950, 8)\n",
            "shape of nursing df is (258, 10)\n",
            "shape of pumped df is (93, 8)\n",
            "shape of diaper df is (1268, 8)\n",
            "shape of medicine df is (42, 10)\n",
            "shape of other Food df is (214, 11)\n",
            "shape of sleep df is (1082, 8)\n",
            "\n"
          ],
          "name": "stdout"
        }
      ]
    },
    {
      "cell_type": "markdown",
      "metadata": {
        "id": "7ZgfkRN30Ovc"
      },
      "source": [
        "##3.1 Check and Replace Missing Values with Designated Values for every DataFrames"
      ]
    },
    {
      "cell_type": "code",
      "metadata": {
        "colab": {
          "base_uri": "https://localhost:8080/"
        },
        "id": "GM060JKf0Gis",
        "outputId": "a50107c8-5b65-400f-93de-955366f45887"
      },
      "source": [
        "pump['LeftDur'].fillna(pump['LeftDur'].mean(), inplace=True)\n",
        "pump['RightDur'].fillna(pump['RightDur'].mean(), inplace=True)\n",
        "pump['TotalDur'].fillna(pump['TotalDur'].mean(), inplace=True)\n",
        "pump['RightAmt'].fillna(pump['RightAmt'].mean(), inplace=True)\n",
        "pump.isna().sum()"
      ],
      "execution_count": null,
      "outputs": [
        {
          "output_type": "execute_result",
          "data": {
            "text/plain": [
              "Time        0\n",
              "LeftDur     0\n",
              "RightDur    0\n",
              "TotalDur    0\n",
              "LeftAmt     0\n",
              "RightAmt    0\n",
              "TotalAmt    0\n",
              "Year        0\n",
              "Month       0\n",
              "Day         0\n",
              "DoW         0\n",
              "Hour        0\n",
              "Minute      0\n",
              "dtype: int64"
            ]
          },
          "metadata": {
            "tags": []
          },
          "execution_count": 30
        }
      ]
    },
    {
      "cell_type": "code",
      "metadata": {
        "colab": {
          "base_uri": "https://localhost:8080/"
        },
        "id": "mZ2NjyPu2dpa",
        "outputId": "268100da-3204-4048-f055-4557812a9624"
      },
      "source": [
        "med['Description'].fillna('NA', inplace=True)\n",
        "med['Amount'].fillna(med['Amount'].mean(), inplace=True)\n",
        "med.isna().sum()"
      ],
      "execution_count": null,
      "outputs": [
        {
          "output_type": "execute_result",
          "data": {
            "text/plain": [
              "Time           0\n",
              "Medication     0\n",
              "Description    0\n",
              "Amount         0\n",
              "Year           0\n",
              "Month          0\n",
              "Day            0\n",
              "DoW            0\n",
              "Hour           0\n",
              "Minute         0\n",
              "dtype: int64"
            ]
          },
          "metadata": {
            "tags": []
          },
          "execution_count": 31
        }
      ]
    },
    {
      "cell_type": "code",
      "metadata": {
        "colab": {
          "base_uri": "https://localhost:8080/"
        },
        "id": "vOZPKuV43hv5",
        "outputId": "0725a19b-2db1-45ce-a4ac-d565d723f12f"
      },
      "source": [
        "feeds['Amount'].fillna(feeds['Amount'].mean(), inplace=True)\n",
        "feeds['Note'].fillna('NA', inplace=True)\n",
        "feeds.isna().sum()"
      ],
      "execution_count": null,
      "outputs": [
        {
          "output_type": "execute_result",
          "data": {
            "text/plain": [
              "Time         0\n",
              "OtherFood    0\n",
              "Amount       0\n",
              "Unit         0\n",
              "Note         0\n",
              "Year         0\n",
              "Month        0\n",
              "Day          0\n",
              "DoW          0\n",
              "Hour         0\n",
              "Minute       0\n",
              "dtype: int64"
            ]
          },
          "metadata": {
            "tags": []
          },
          "execution_count": 32
        }
      ]
    },
    {
      "cell_type": "markdown",
      "metadata": {
        "id": "qhjK3S5k6Dzb"
      },
      "source": [
        "##3.2 Feature Selection"
      ]
    },
    {
      "cell_type": "markdown",
      "metadata": {
        "id": "4wjEVBbXNGQ3"
      },
      "source": [
        "Here we respectively studied 3 main factors of Timmons's health conditions and 1 factor for myself to see when the hectic times we both are so as to prepare ahead:  \n",
        "\n",
        "*   eating (formula + nursing + pumped)\n",
        "*   diaper\n",
        "*   sleep"
      ]
    },
    {
      "cell_type": "markdown",
      "metadata": {
        "id": "NOEK07cZlQig"
      },
      "source": [
        "###3.2.1 Correlation"
      ]
    },
    {
      "cell_type": "markdown",
      "metadata": {
        "id": "ppGLtYZi29Se"
      },
      "source": [
        "**Note:**  \n",
        "\"feeds dataframe\" needs to be duplicated with a new one with dropped columns as the text columns will be kept for analysis later."
      ]
    },
    {
      "cell_type": "code",
      "metadata": {
        "id": "dvFA30u06ehd"
      },
      "source": [
        "# drop TimeStamp column for all\n",
        "pump = pump.drop('Time', axis=1)\n",
        "formula = formula.drop('Time', axis=1)\n",
        "nursing = nursing.drop('Time', axis=1)\n",
        "pumped = pumped.drop('Time', axis=1)\n",
        "diaper = diaper.drop('Time', axis=1) # need to convert \"status\" into numeric values\n",
        "med = med.drop('Time', axis=1) # need to convert \"Medication\" and \"Description\" into numeric values\n",
        "feeds_train = feeds.drop(['Time','Unit', 'Note'], axis=1) # need to convert \"OtherFood\" into numeric values\n",
        "sleep = sleep.drop('Time', axis=1)"
      ],
      "execution_count": null,
      "outputs": []
    },
    {
      "cell_type": "code",
      "metadata": {
        "colab": {
          "base_uri": "https://localhost:8080/",
          "height": 1000
        },
        "id": "AmQ2YM3oNx4k",
        "outputId": "23334351-9724-4c30-f9e2-6c68d51727b9"
      },
      "source": [
        "f, axs = plt.subplots(4,2,figsize=(20, 30))\n",
        "sns.heatmap(pump.corr(), cmap='Greens', ax=axs[0][0])\n",
        "sns.heatmap(formula.corr(), cmap='Greens', ax=axs[0][1])\n",
        "sns.heatmap(nursing.corr(), cmap='Greens', ax=axs[1][0])\n",
        "sns.heatmap(pumped.corr(), cmap='Greens', ax=axs[1][1])\n",
        "sns.heatmap(diaper.corr(), cmap=\"Greens\", ax=axs[2][0])\n",
        "sns.heatmap(feeds_train.corr(), cmap='Greens', ax=axs[2][1])\n",
        "sns.heatmap(sleep.corr(), cmap='Greens', ax=axs[3][0])\n",
        "sns.heatmap(med.corr(), cmap='Greens', ax=axs[3][1])\n",
        "axs[0][0].set_title('pump')\n",
        "axs[0][1].set_title('formula')\n",
        "axs[1][0].set_title('nursing')\n",
        "axs[1][1].set_title('pumped')\n",
        "axs[2][0].set_title('diaper')\n",
        "axs[2][1].set_title('feeds')\n",
        "axs[3][0].set_title('sleep')\n",
        "axs[3][1].set_title('medicine')\n",
        "plt.show()"
      ],
      "execution_count": null,
      "outputs": [
        {
          "output_type": "display_data",
          "data": {
            "image/png": "[encoded data removed]",
            "text/plain": [
              "<Figure size 1440x2160 with 16 Axes>"
            ]
          },
          "metadata": {
            "tags": [],
            "needs_background": "light"
          }
        }
      ]
    },
    {
      "cell_type": "markdown",
      "metadata": {
        "id": "kBYUA9dK1iS3"
      },
      "source": [
        "**High Correlation in such groups as below:**\n",
        "\n",
        "*   Total Amount, Left Amount and Right Amount\n",
        "*   Total Duation, Left Duration and Right Duration\n",
        "*   Year and Month  \n",
        "\n",
        "\n",
        "### What I am going to predict is the activity **HOUR** and **AMOUNT** if Amount is necessary.\n",
        "\n",
        "\n",
        "\n"
      ]
    },
    {
      "cell_type": "code",
      "metadata": {
        "id": "Or4AzlA5LtHC"
      },
      "source": [
        "y_pum = pump[['Hour', 'TotalAmt']]\n",
        "X_pum = pump.drop(columns=['Hour', 'TotalAmt'], axis=1)\n",
        "\n",
        "y_for = formula[['Hour', 'Amount']]\n",
        "X_for = formula.drop(columns=['Hour', 'Amount'], axis=1)\n",
        "\n",
        "y_nur = nursing['Hour']\n",
        "X_nur = nursing.drop(columns=['TotalDur', 'Hour'], axis=1)\n",
        "\n",
        "y_ped = pumped['Hour']\n",
        "X_ped = pumped.drop(columns=['Hour'], axis=1)\n",
        "\n",
        "y_dia = diaper['Hour']\n",
        "X_dia = diaper.drop(columns=['Hour'], axis=1) # Status\n",
        "\n",
        "y_fee = feeds_train['Hour']\n",
        "X_fee = feeds_train.drop(columns=['Hour'], axis=1) # OtherFood\n",
        "\n",
        "y_sle = sleep['Hour']\n",
        "X_sle = sleep.drop(columns=['Hour'], axis = 1)"
      ],
      "execution_count": null,
      "outputs": []
    },
    {
      "cell_type": "markdown",
      "metadata": {
        "id": "-fwjAFwVAUWF"
      },
      "source": [
        "###3.2.2 Splitting into Training Dataset and Test Dataset"
      ]
    },
    {
      "cell_type": "code",
      "metadata": {
        "id": "Ie27UtmKAs11"
      },
      "source": [
        "from sklearn import model_selection"
      ],
      "execution_count": null,
      "outputs": []
    },
    {
      "cell_type": "code",
      "metadata": {
        "colab": {
          "base_uri": "https://localhost:8080/"
        },
        "id": "zfZEZg5XACrD",
        "outputId": "b4d63894-ee26-419b-8cfd-3b3344986df1"
      },
      "source": [
        "print('Formula')\n",
        "X_for_train, X_for_test, y_for_train, y_for_test = model_selection.train_test_split(X_for, y_for, test_size=0.2, random_state=1)\n",
        "\n",
        "print('Training dataset has ' + str(X_for_train.shape[0]) + ' observation with ' + str(X_for_train.shape[1]) + ' features')\n",
        "print('Test dataset has ' + str(X_for_test.shape[0]) + ' observation with ' + str(X_for_test.shape[1]) + ' features')"
      ],
      "execution_count": null,
      "outputs": [
        {
          "output_type": "stream",
          "text": [
            "Formula\n",
            "Training dataset has 760 observation with 5 features\n",
            "Test dataset has 190 observation with 5 features\n"
          ],
          "name": "stdout"
        }
      ]
    },
    {
      "cell_type": "code",
      "metadata": {
        "colab": {
          "base_uri": "https://localhost:8080/"
        },
        "id": "ramfKGrkE-ss",
        "outputId": "1bf86f34-971e-4018-9122-4fdfb97191c5"
      },
      "source": [
        "print('Nursing')\n",
        "X_nur_train, X_nur_test, y_nur_train, y_nur_test = model_selection.train_test_split(X_nur, y_nur, test_size=0.2, random_state=1)\n",
        "\n",
        "print('Training dataset has ' + str(X_nur_train.shape[0]) + ' observation with ' + str(X_nur_train.shape[1]) + ' features')\n",
        "print('Test dataset has ' + str(X_nur_test.shape[0]) + ' observation with ' + str(X_nur_test.shape[1]) + ' features')"
      ],
      "execution_count": null,
      "outputs": [
        {
          "output_type": "stream",
          "text": [
            "Nursing\n",
            "Training dataset has 206 observation with 7 features\n",
            "Test dataset has 52 observation with 7 features\n"
          ],
          "name": "stdout"
        }
      ]
    },
    {
      "cell_type": "code",
      "metadata": {
        "colab": {
          "base_uri": "https://localhost:8080/"
        },
        "id": "jv4nhe5iN_ZI",
        "outputId": "8682215f-70aa-4c89-d4e5-559f609292da"
      },
      "source": [
        "print('Pumped Breast Milk')\n",
        "X_ped_train, X_ped_test, y_ped_train, y_ped_test = model_selection.train_test_split(X_ped, y_ped, test_size=0.2, random_state=1)\n",
        "\n",
        "print('Training dataset has ' + str(X_ped_train.shape[0]) + ' observation with ' + str(X_ped_train.shape[1]) + ' features')\n",
        "print('Test dataset has ' + str(X_ped_test.shape[0]) + ' observation with ' + str(X_ped_test.shape[1]) + ' features')"
      ],
      "execution_count": null,
      "outputs": [
        {
          "output_type": "stream",
          "text": [
            "Pumped Breast Milk\n",
            "Training dataset has 74 observation with 6 features\n",
            "Test dataset has 19 observation with 6 features\n"
          ],
          "name": "stdout"
        }
      ]
    },
    {
      "cell_type": "code",
      "metadata": {
        "colab": {
          "base_uri": "https://localhost:8080/"
        },
        "id": "z7UtXeKnPnpW",
        "outputId": "9eb55f42-ecb6-4ef8-ac4f-7d0a225727e5"
      },
      "source": [
        "print('Other Foods')\n",
        "X_fee_train, X_fee_test, y_fee_train, y_fee_test = model_selection.train_test_split(X_fee, y_fee, test_size=0.2, random_state=1)\n",
        "\n",
        "print('Training dataset has ' + str(X_fee_train.shape[0]) + ' observation with ' + str(X_fee_train.shape[1]) + ' features')\n",
        "print('Test dataset has ' + str(X_fee_test.shape[0]) + ' observation with ' + str(X_fee_test.shape[1]) + ' features')"
      ],
      "execution_count": null,
      "outputs": [
        {
          "output_type": "stream",
          "text": [
            "Other Foods\n",
            "Training dataset has 171 observation with 7 features\n",
            "Test dataset has 43 observation with 7 features\n"
          ],
          "name": "stdout"
        }
      ]
    },
    {
      "cell_type": "code",
      "metadata": {
        "colab": {
          "base_uri": "https://localhost:8080/"
        },
        "id": "uD_vbOudQcJX",
        "outputId": "9b9cd60d-51e1-4e5d-c94f-9006bf3c63eb"
      },
      "source": [
        "print('Diaper')\n",
        "X_dia_train, X_dia_test, y_dia_train, y_dia_test = model_selection.train_test_split(X_dia, y_dia, test_size=0.2, random_state=1)\n",
        "\n",
        "print('Training dataset has ' + str(X_dia_train.shape[0]) + ' observation with ' + str(X_dia_train.shape[1]) + ' features')\n",
        "print('Test dataset has ' + str(X_dia_test.shape[0]) + ' observation with ' + str(X_dia_test.shape[1]) + ' features')"
      ],
      "execution_count": null,
      "outputs": [
        {
          "output_type": "stream",
          "text": [
            "Diaper\n",
            "Training dataset has 1014 observation with 6 features\n",
            "Test dataset has 254 observation with 6 features\n"
          ],
          "name": "stdout"
        }
      ]
    },
    {
      "cell_type": "code",
      "metadata": {
        "colab": {
          "base_uri": "https://localhost:8080/"
        },
        "id": "fa-q3NgsSw3s",
        "outputId": "3403bc98-c452-47fb-f577-8192fcd7458a"
      },
      "source": [
        "print('Pump')\n",
        "X_pum_train, X_pum_test, y_pum_train, y_pum_test = model_selection.train_test_split(X_pum, y_pum, test_size=0.2, random_state=1)\n",
        "\n",
        "print('Training dataset has ' + str(X_pum_train.shape[0]) + ' observation with ' + str(X_pum_train.shape[1]) + ' features')\n",
        "print('Test dataset has ' + str(X_pum_test.shape[0]) + ' observation with ' + str(X_pum_test.shape[1]) + ' features')"
      ],
      "execution_count": null,
      "outputs": [
        {
          "output_type": "stream",
          "text": [
            "Pump\n",
            "Training dataset has 137 observation with 10 features\n",
            "Test dataset has 35 observation with 10 features\n"
          ],
          "name": "stdout"
        }
      ]
    },
    {
      "cell_type": "code",
      "metadata": {
        "colab": {
          "base_uri": "https://localhost:8080/"
        },
        "id": "8H5AdSlYPVkg",
        "outputId": "7303f5e3-160f-4617-992c-a0afaeaceb1d"
      },
      "source": [
        "print('Sleep')\n",
        "X_sle_train, X_sle_test, y_sle_train, y_sle_test = model_selection.train_test_split(X_sle, y_sle, test_size=0.2, random_state=1)\n",
        "\n",
        "print('Training dataset has ' + str(X_sle_train.shape[0]) + ' observation with ' + str(X_sle_train.shape[1]) + ' features')\n",
        "print('Test dataset has ' + str(X_sle_test.shape[0]) + ' observation with ' + str(X_sle_test.shape[1]) + ' features')"
      ],
      "execution_count": null,
      "outputs": [
        {
          "output_type": "stream",
          "text": [
            "Sleep\n",
            "Training dataset has 865 observation with 6 features\n",
            "Test dataset has 217 observation with 6 features\n"
          ],
          "name": "stdout"
        }
      ]
    },
    {
      "cell_type": "code",
      "metadata": {
        "id": "NqF0LueW6HPH"
      },
      "source": [
        "# Ont Hot Encoding \n",
        "from sklearn.preprocessing import OneHotEncoder\n",
        "\n",
        "def OneHotEncoding(df, enc, categories):  \n",
        "  transformed = pd.DataFrame(enc.transform(df[categories]).toarray(), columns=enc.get_feature_names(categories))\n",
        "\n",
        "  return pd.concat([df.reset_index(drop=True), transformed], axis=1).drop(categories, axis=1)\n",
        "\n",
        "# 'status' in diaper\n",
        "status = ['Status']\n",
        "enc_ohe1 = OneHotEncoder()\n",
        "enc_ohe1.fit(X_dia_train[status])\n",
        "X_dia_train = OneHotEncoding(X_dia_train, enc_ohe1, status)\n",
        "X_dia_test = OneHotEncoding(X_dia_test, enc_ohe1, status)\n",
        "\n",
        "# 'OtherFood' in feeds\n",
        "otherFood = ['OtherFood']\n",
        "enc_ohe2 = OneHotEncoder()\n",
        "enc_ohe2.fit(X_fee_train[otherFood])\n",
        "X_fee_train = OneHotEncoding(X_fee_train, enc_ohe2, otherFood)\n",
        "X_fee_test = OneHotEncoding(X_fee_test, enc_ohe2, otherFood)"
      ],
      "execution_count": null,
      "outputs": []
    },
    {
      "cell_type": "code",
      "metadata": {
        "colab": {
          "base_uri": "https://localhost:8080/",
          "height": 205
        },
        "id": "_gJKK5jHRaBI",
        "outputId": "df7cc9c5-69d2-4a90-b95a-b4aa032106af"
      },
      "source": [
        "X_dia_train.head()"
      ],
      "execution_count": null,
      "outputs": [
        {
          "output_type": "execute_result",
          "data": {
            "text/html": [
              "<div>\n",
              "<style scoped>\n",
              "    .dataframe tbody tr th:only-of-type {\n",
              "        vertical-align: middle;\n",
              "    }\n",
              "\n",
              "    .dataframe tbody tr th {\n",
              "        vertical-align: top;\n",
              "    }\n",
              "\n",
              "    .dataframe thead th {\n",
              "        text-align: right;\n",
              "    }\n",
              "</style>\n",
              "<table border=\"1\" class=\"dataframe\">\n",
              "  <thead>\n",
              "    <tr style=\"text-align: right;\">\n",
              "      <th></th>\n",
              "      <th>Year</th>\n",
              "      <th>Month</th>\n",
              "      <th>Day</th>\n",
              "      <th>DoW</th>\n",
              "      <th>Minute</th>\n",
              "      <th>Status_Dirty</th>\n",
              "      <th>Status_Dry</th>\n",
              "      <th>Status_Mixed</th>\n",
              "      <th>Status_Wet</th>\n",
              "    </tr>\n",
              "  </thead>\n",
              "  <tbody>\n",
              "    <tr>\n",
              "      <th>0</th>\n",
              "      <td>2020</td>\n",
              "      <td>3</td>\n",
              "      <td>9</td>\n",
              "      <td>0</td>\n",
              "      <td>48</td>\n",
              "      <td>0.0</td>\n",
              "      <td>0.0</td>\n",
              "      <td>1.0</td>\n",
              "      <td>0.0</td>\n",
              "    </tr>\n",
              "    <tr>\n",
              "      <th>1</th>\n",
              "      <td>2020</td>\n",
              "      <td>4</td>\n",
              "      <td>8</td>\n",
              "      <td>2</td>\n",
              "      <td>24</td>\n",
              "      <td>0.0</td>\n",
              "      <td>0.0</td>\n",
              "      <td>0.0</td>\n",
              "      <td>1.0</td>\n",
              "    </tr>\n",
              "    <tr>\n",
              "      <th>2</th>\n",
              "      <td>2020</td>\n",
              "      <td>5</td>\n",
              "      <td>12</td>\n",
              "      <td>1</td>\n",
              "      <td>54</td>\n",
              "      <td>0.0</td>\n",
              "      <td>0.0</td>\n",
              "      <td>0.0</td>\n",
              "      <td>1.0</td>\n",
              "    </tr>\n",
              "    <tr>\n",
              "      <th>3</th>\n",
              "      <td>2020</td>\n",
              "      <td>4</td>\n",
              "      <td>17</td>\n",
              "      <td>4</td>\n",
              "      <td>27</td>\n",
              "      <td>0.0</td>\n",
              "      <td>0.0</td>\n",
              "      <td>0.0</td>\n",
              "      <td>1.0</td>\n",
              "    </tr>\n",
              "    <tr>\n",
              "      <th>4</th>\n",
              "      <td>2020</td>\n",
              "      <td>1</td>\n",
              "      <td>15</td>\n",
              "      <td>2</td>\n",
              "      <td>4</td>\n",
              "      <td>0.0</td>\n",
              "      <td>0.0</td>\n",
              "      <td>0.0</td>\n",
              "      <td>1.0</td>\n",
              "    </tr>\n",
              "  </tbody>\n",
              "</table>\n",
              "</div>"
            ],
            "text/plain": [
              "   Year  Month  Day  DoW  ...  Status_Dirty  Status_Dry  Status_Mixed  Status_Wet\n",
              "0  2020      3    9    0  ...           0.0         0.0           1.0         0.0\n",
              "1  2020      4    8    2  ...           0.0         0.0           0.0         1.0\n",
              "2  2020      5   12    1  ...           0.0         0.0           0.0         1.0\n",
              "3  2020      4   17    4  ...           0.0         0.0           0.0         1.0\n",
              "4  2020      1   15    2  ...           0.0         0.0           0.0         1.0\n",
              "\n",
              "[5 rows x 9 columns]"
            ]
          },
          "metadata": {
            "tags": []
          },
          "execution_count": 45
        }
      ]
    },
    {
      "cell_type": "code",
      "metadata": {
        "colab": {
          "base_uri": "https://localhost:8080/",
          "height": 205
        },
        "id": "DGJNZNq-RcWw",
        "outputId": "26e773ca-c817-4ecf-8f49-2e185166b452"
      },
      "source": [
        "X_fee_train.head()"
      ],
      "execution_count": null,
      "outputs": [
        {
          "output_type": "execute_result",
          "data": {
            "text/html": [
              "<div>\n",
              "<style scoped>\n",
              "    .dataframe tbody tr th:only-of-type {\n",
              "        vertical-align: middle;\n",
              "    }\n",
              "\n",
              "    .dataframe tbody tr th {\n",
              "        vertical-align: top;\n",
              "    }\n",
              "\n",
              "    .dataframe thead th {\n",
              "        text-align: right;\n",
              "    }\n",
              "</style>\n",
              "<table border=\"1\" class=\"dataframe\">\n",
              "  <thead>\n",
              "    <tr style=\"text-align: right;\">\n",
              "      <th></th>\n",
              "      <th>Amount</th>\n",
              "      <th>Year</th>\n",
              "      <th>Month</th>\n",
              "      <th>Day</th>\n",
              "      <th>DoW</th>\n",
              "      <th>Minute</th>\n",
              "      <th>OtherFood_Cereal</th>\n",
              "      <th>OtherFood_Fruit</th>\n",
              "      <th>OtherFood_Veggies</th>\n",
              "    </tr>\n",
              "  </thead>\n",
              "  <tbody>\n",
              "    <tr>\n",
              "      <th>0</th>\n",
              "      <td>1.000000</td>\n",
              "      <td>2020</td>\n",
              "      <td>5</td>\n",
              "      <td>15</td>\n",
              "      <td>4</td>\n",
              "      <td>30</td>\n",
              "      <td>1.0</td>\n",
              "      <td>0.0</td>\n",
              "      <td>0.0</td>\n",
              "    </tr>\n",
              "    <tr>\n",
              "      <th>1</th>\n",
              "      <td>1.000000</td>\n",
              "      <td>2020</td>\n",
              "      <td>3</td>\n",
              "      <td>29</td>\n",
              "      <td>6</td>\n",
              "      <td>0</td>\n",
              "      <td>0.0</td>\n",
              "      <td>0.0</td>\n",
              "      <td>1.0</td>\n",
              "    </tr>\n",
              "    <tr>\n",
              "      <th>2</th>\n",
              "      <td>1.000000</td>\n",
              "      <td>2020</td>\n",
              "      <td>5</td>\n",
              "      <td>19</td>\n",
              "      <td>1</td>\n",
              "      <td>9</td>\n",
              "      <td>0.0</td>\n",
              "      <td>1.0</td>\n",
              "      <td>0.0</td>\n",
              "    </tr>\n",
              "    <tr>\n",
              "      <th>3</th>\n",
              "      <td>2.000000</td>\n",
              "      <td>2020</td>\n",
              "      <td>5</td>\n",
              "      <td>12</td>\n",
              "      <td>1</td>\n",
              "      <td>0</td>\n",
              "      <td>0.0</td>\n",
              "      <td>1.0</td>\n",
              "      <td>0.0</td>\n",
              "    </tr>\n",
              "    <tr>\n",
              "      <th>4</th>\n",
              "      <td>8.436782</td>\n",
              "      <td>2020</td>\n",
              "      <td>5</td>\n",
              "      <td>17</td>\n",
              "      <td>6</td>\n",
              "      <td>30</td>\n",
              "      <td>0.0</td>\n",
              "      <td>0.0</td>\n",
              "      <td>1.0</td>\n",
              "    </tr>\n",
              "  </tbody>\n",
              "</table>\n",
              "</div>"
            ],
            "text/plain": [
              "     Amount  Year  Month  ...  OtherFood_Cereal  OtherFood_Fruit  OtherFood_Veggies\n",
              "0  1.000000  2020      5  ...               1.0              0.0                0.0\n",
              "1  1.000000  2020      3  ...               0.0              0.0                1.0\n",
              "2  1.000000  2020      5  ...               0.0              1.0                0.0\n",
              "3  2.000000  2020      5  ...               0.0              1.0                0.0\n",
              "4  8.436782  2020      5  ...               0.0              0.0                1.0\n",
              "\n",
              "[5 rows x 9 columns]"
            ]
          },
          "metadata": {
            "tags": []
          },
          "execution_count": 46
        }
      ]
    },
    {
      "cell_type": "markdown",
      "metadata": {
        "id": "uN323TCEKnFn"
      },
      "source": [
        "###3.2.3 StandardScaler"
      ]
    },
    {
      "cell_type": "code",
      "metadata": {
        "id": "H-Ko239hYzBq"
      },
      "source": [
        "from sklearn.preprocessing import StandardScaler\n",
        "\n",
        "scaler1 = StandardScaler()\n",
        "scaler1.fit(X_ped_train[['Amount']]) \n",
        "X_ped_train[['Amount']] = scaler1.transform(X_ped_train[['Amount']])\n",
        "X_ped_test[['Amount']] = scaler1.transform(X_ped_test[['Amount']])\n",
        "\n",
        "scaler2 = StandardScaler()\n",
        "scaler2.fit(X_fee_train[['Amount']]) \n",
        "X_fee_train[['Amount']] = scaler2.transform(X_fee_train[['Amount']])\n",
        "X_fee_test[['Amount']] = scaler2.transform(X_fee_test[['Amount']])"
      ],
      "execution_count": null,
      "outputs": []
    },
    {
      "cell_type": "code",
      "metadata": {
        "colab": {
          "base_uri": "https://localhost:8080/",
          "height": 205
        },
        "id": "hWD-ELkb8CB1",
        "outputId": "68401dc2-e55c-47de-c868-322f71f9a6c1"
      },
      "source": [
        "X_ped_train.head()"
      ],
      "execution_count": null,
      "outputs": [
        {
          "output_type": "execute_result",
          "data": {
            "text/html": [
              "<div>\n",
              "<style scoped>\n",
              "    .dataframe tbody tr th:only-of-type {\n",
              "        vertical-align: middle;\n",
              "    }\n",
              "\n",
              "    .dataframe tbody tr th {\n",
              "        vertical-align: top;\n",
              "    }\n",
              "\n",
              "    .dataframe thead th {\n",
              "        text-align: right;\n",
              "    }\n",
              "</style>\n",
              "<table border=\"1\" class=\"dataframe\">\n",
              "  <thead>\n",
              "    <tr style=\"text-align: right;\">\n",
              "      <th></th>\n",
              "      <th>Amount</th>\n",
              "      <th>Year</th>\n",
              "      <th>Month</th>\n",
              "      <th>Day</th>\n",
              "      <th>DoW</th>\n",
              "      <th>Minute</th>\n",
              "    </tr>\n",
              "  </thead>\n",
              "  <tbody>\n",
              "    <tr>\n",
              "      <th>73</th>\n",
              "      <td>-0.065987</td>\n",
              "      <td>2019</td>\n",
              "      <td>11</td>\n",
              "      <td>30</td>\n",
              "      <td>5</td>\n",
              "      <td>5</td>\n",
              "    </tr>\n",
              "    <tr>\n",
              "      <th>48</th>\n",
              "      <td>0.356286</td>\n",
              "      <td>2019</td>\n",
              "      <td>12</td>\n",
              "      <td>8</td>\n",
              "      <td>6</td>\n",
              "      <td>10</td>\n",
              "    </tr>\n",
              "    <tr>\n",
              "      <th>19</th>\n",
              "      <td>-1.179252</td>\n",
              "      <td>2020</td>\n",
              "      <td>1</td>\n",
              "      <td>16</td>\n",
              "      <td>3</td>\n",
              "      <td>56</td>\n",
              "    </tr>\n",
              "    <tr>\n",
              "      <th>87</th>\n",
              "      <td>-0.027598</td>\n",
              "      <td>2019</td>\n",
              "      <td>11</td>\n",
              "      <td>27</td>\n",
              "      <td>2</td>\n",
              "      <td>19</td>\n",
              "    </tr>\n",
              "    <tr>\n",
              "      <th>36</th>\n",
              "      <td>-1.179252</td>\n",
              "      <td>2019</td>\n",
              "      <td>12</td>\n",
              "      <td>18</td>\n",
              "      <td>2</td>\n",
              "      <td>45</td>\n",
              "    </tr>\n",
              "  </tbody>\n",
              "</table>\n",
              "</div>"
            ],
            "text/plain": [
              "      Amount  Year  Month  Day  DoW  Minute\n",
              "73 -0.065987  2019     11   30    5       5\n",
              "48  0.356286  2019     12    8    6      10\n",
              "19 -1.179252  2020      1   16    3      56\n",
              "87 -0.027598  2019     11   27    2      19\n",
              "36 -1.179252  2019     12   18    2      45"
            ]
          },
          "metadata": {
            "tags": []
          },
          "execution_count": 48
        }
      ]
    },
    {
      "cell_type": "code",
      "metadata": {
        "colab": {
          "base_uri": "https://localhost:8080/",
          "height": 205
        },
        "id": "tWalmoA68GFq",
        "outputId": "0b711f0e-f3d0-436c-858b-f46389a1d545"
      },
      "source": [
        "X_fee_train.head()"
      ],
      "execution_count": null,
      "outputs": [
        {
          "output_type": "execute_result",
          "data": {
            "text/html": [
              "<div>\n",
              "<style scoped>\n",
              "    .dataframe tbody tr th:only-of-type {\n",
              "        vertical-align: middle;\n",
              "    }\n",
              "\n",
              "    .dataframe tbody tr th {\n",
              "        vertical-align: top;\n",
              "    }\n",
              "\n",
              "    .dataframe thead th {\n",
              "        text-align: right;\n",
              "    }\n",
              "</style>\n",
              "<table border=\"1\" class=\"dataframe\">\n",
              "  <thead>\n",
              "    <tr style=\"text-align: right;\">\n",
              "      <th></th>\n",
              "      <th>Amount</th>\n",
              "      <th>Year</th>\n",
              "      <th>Month</th>\n",
              "      <th>Day</th>\n",
              "      <th>DoW</th>\n",
              "      <th>Minute</th>\n",
              "      <th>OtherFood_Cereal</th>\n",
              "      <th>OtherFood_Fruit</th>\n",
              "      <th>OtherFood_Veggies</th>\n",
              "    </tr>\n",
              "  </thead>\n",
              "  <tbody>\n",
              "    <tr>\n",
              "      <th>0</th>\n",
              "      <td>-0.557568</td>\n",
              "      <td>2020</td>\n",
              "      <td>5</td>\n",
              "      <td>15</td>\n",
              "      <td>4</td>\n",
              "      <td>30</td>\n",
              "      <td>1.0</td>\n",
              "      <td>0.0</td>\n",
              "      <td>0.0</td>\n",
              "    </tr>\n",
              "    <tr>\n",
              "      <th>1</th>\n",
              "      <td>-0.557568</td>\n",
              "      <td>2020</td>\n",
              "      <td>3</td>\n",
              "      <td>29</td>\n",
              "      <td>6</td>\n",
              "      <td>0</td>\n",
              "      <td>0.0</td>\n",
              "      <td>0.0</td>\n",
              "      <td>1.0</td>\n",
              "    </tr>\n",
              "    <tr>\n",
              "      <th>2</th>\n",
              "      <td>-0.557568</td>\n",
              "      <td>2020</td>\n",
              "      <td>5</td>\n",
              "      <td>19</td>\n",
              "      <td>1</td>\n",
              "      <td>9</td>\n",
              "      <td>0.0</td>\n",
              "      <td>1.0</td>\n",
              "      <td>0.0</td>\n",
              "    </tr>\n",
              "    <tr>\n",
              "      <th>3</th>\n",
              "      <td>-0.490186</td>\n",
              "      <td>2020</td>\n",
              "      <td>5</td>\n",
              "      <td>12</td>\n",
              "      <td>1</td>\n",
              "      <td>0</td>\n",
              "      <td>0.0</td>\n",
              "      <td>1.0</td>\n",
              "      <td>0.0</td>\n",
              "    </tr>\n",
              "    <tr>\n",
              "      <th>4</th>\n",
              "      <td>-0.056462</td>\n",
              "      <td>2020</td>\n",
              "      <td>5</td>\n",
              "      <td>17</td>\n",
              "      <td>6</td>\n",
              "      <td>30</td>\n",
              "      <td>0.0</td>\n",
              "      <td>0.0</td>\n",
              "      <td>1.0</td>\n",
              "    </tr>\n",
              "  </tbody>\n",
              "</table>\n",
              "</div>"
            ],
            "text/plain": [
              "     Amount  Year  Month  ...  OtherFood_Cereal  OtherFood_Fruit  OtherFood_Veggies\n",
              "0 -0.557568  2020      5  ...               1.0              0.0                0.0\n",
              "1 -0.557568  2020      3  ...               0.0              0.0                1.0\n",
              "2 -0.557568  2020      5  ...               0.0              1.0                0.0\n",
              "3 -0.490186  2020      5  ...               0.0              1.0                0.0\n",
              "4 -0.056462  2020      5  ...               0.0              0.0                1.0\n",
              "\n",
              "[5 rows x 9 columns]"
            ]
          },
          "metadata": {
            "tags": []
          },
          "execution_count": 49
        }
      ]
    },
    {
      "cell_type": "markdown",
      "metadata": {
        "id": "NhmG5iCsrgpe"
      },
      "source": [
        "#4. Supervised Model Training\n",
        "\n",
        "*   Tiny sizes of datasets will cause the expected values being far from the real values. So I just informally and indiscreetly built  models for predictions without model scores provided. Besides, small datasets are only applied with simplest model to avoid overfitting. \n",
        "\n",
        "*   Here are just several little simple ML algorithmns (Linear Regresiion from Scikit-Learn) for predicitons and see how codes execute.\n",
        "\n"
      ]
    },
    {
      "cell_type": "code",
      "metadata": {
        "id": "_yKXkKXL3fZI"
      },
      "source": [
        "from sklearn.linear_model import LinearRegression"
      ],
      "execution_count": null,
      "outputs": []
    },
    {
      "cell_type": "code",
      "metadata": {
        "id": "aB4PHqbq5HsI"
      },
      "source": [
        "# predict for formula\n",
        "le1 = LinearRegression(n_jobs=2) # 2 target variables\n",
        "le1.fit(X_for_train, y_for_train)\n",
        "for_pred = le1.predict(X_for_test)\n",
        "\n",
        "# Predicted Formula Amount at Predicted Hours\n",
        "for_hour_pred = for_pred[:, 0] \n",
        "for_amt_pred = for_pred[:, 1] "
      ],
      "execution_count": null,
      "outputs": []
    },
    {
      "cell_type": "code",
      "metadata": {
        "colab": {
          "base_uri": "https://localhost:8080/",
          "height": 460
        },
        "id": "xFpX1uOz5r4r",
        "outputId": "72dd3e22-5159-41b5-a6e2-53170c3845e7"
      },
      "source": [
        "ax = sns.jointplot(data=for_pred, x=for_pred[:, 0], y=for_pred[:, 1])\n",
        "ax.set_axis_labels(xlabel='Predicted Hours of Formula', ylabel = 'Predicted Formula Amount', fontsize=16)\n",
        "plt.show()"
      ],
      "execution_count": null,
      "outputs": [
        {
          "output_type": "display_data",
          "data": {
            "image/png": "[encoded data removed]",
            "text/plain": [
              "<Figure size 432x432 with 3 Axes>"
            ]
          },
          "metadata": {
            "tags": [],
            "needs_background": "light"
          }
        }
      ]
    },
    {
      "cell_type": "code",
      "metadata": {
        "colab": {
          "base_uri": "https://localhost:8080/",
          "height": 281
        },
        "id": "xQHt9q5s5tlp",
        "outputId": "beac620b-e75e-438f-dda4-b150ea72151a"
      },
      "source": [
        "# predict for nursing\n",
        "le2 = LinearRegression()\n",
        "le2.fit(X_nur_train, y_nur_train)\n",
        "nur_pred = le2.predict(X_nur_test)\n",
        "\n",
        "# plot predictions\n",
        "plt.hist(nur_pred, bins=30)\n",
        "plt.title('Predicted Hours for Nursing')\n",
        "plt.show()"
      ],
      "execution_count": null,
      "outputs": [
        {
          "output_type": "display_data",
          "data": {
            "image/png": "[encoded data removed]",
            "text/plain": [
              "<Figure size 432x288 with 1 Axes>"
            ]
          },
          "metadata": {
            "tags": [],
            "needs_background": "light"
          }
        }
      ]
    },
    {
      "cell_type": "code",
      "metadata": {
        "colab": {
          "base_uri": "https://localhost:8080/",
          "height": 281
        },
        "id": "NS21U6aqE2II",
        "outputId": "163d30ab-06ad-4cd8-bb16-d47e1114b0a2"
      },
      "source": [
        "# predict for pumped\n",
        "le3 = LinearRegression()\n",
        "le3.fit(X_ped_train, y_ped_train)\n",
        "ped_pred = le3.predict(X_ped_test)\n",
        "\n",
        "# plot predictions\n",
        "plt.hist(ped_pred, bins=30)\n",
        "plt.title('Predicted Hours for Pumped Breast Milk')\n",
        "plt.show()"
      ],
      "execution_count": null,
      "outputs": [
        {
          "output_type": "display_data",
          "data": {
            "image/png": "[encoded data removed]",
            "text/plain": [
              "<Figure size 432x288 with 1 Axes>"
            ]
          },
          "metadata": {
            "tags": [],
            "needs_background": "light"
          }
        }
      ]
    },
    {
      "cell_type": "code",
      "metadata": {
        "colab": {
          "base_uri": "https://localhost:8080/",
          "height": 281
        },
        "id": "8zYw_1EFPb-e",
        "outputId": "8c118e7a-8251-4589-ad38-17f53a1a39e7"
      },
      "source": [
        "# predict for other feeds\n",
        "le4 = LinearRegression()\n",
        "le4.fit(X_fee_train, y_fee_train)\n",
        "fee_pred = le4.predict(X_fee_test)\n",
        "\n",
        "# plot predictions\n",
        "plt.hist(fee_pred, bins=30)\n",
        "plt.title('Predicted Hours for Other Feeds')\n",
        "plt.show()"
      ],
      "execution_count": null,
      "outputs": [
        {
          "output_type": "display_data",
          "data": {
            "image/png": "[encoded data removed]",
            "text/plain": [
              "<Figure size 432x288 with 1 Axes>"
            ]
          },
          "metadata": {
            "tags": [],
            "needs_background": "light"
          }
        }
      ]
    },
    {
      "cell_type": "code",
      "metadata": {
        "colab": {
          "base_uri": "https://localhost:8080/",
          "height": 281
        },
        "id": "Cv2D5FFLRziY",
        "outputId": "8e460962-4cab-4dc7-9cef-61c2cb54cb5f"
      },
      "source": [
        "# predict for diapers\n",
        "le5 = LinearRegression()\n",
        "le5.fit(X_dia_train, y_dia_train)\n",
        "dia_pred = le5.predict(X_dia_test)\n",
        "\n",
        "# plot predictions\n",
        "plt.hist(dia_pred, bins=30)\n",
        "plt.title('Predicted Hours for Diapers Changing')\n",
        "plt.show()"
      ],
      "execution_count": null,
      "outputs": [
        {
          "output_type": "display_data",
          "data": {
            "image/png": "[encoded data removed]",
            "text/plain": [
              "<Figure size 432x288 with 1 Axes>"
            ]
          },
          "metadata": {
            "tags": [],
            "needs_background": "light"
          }
        }
      ]
    },
    {
      "cell_type": "code",
      "metadata": {
        "colab": {
          "base_uri": "https://localhost:8080/",
          "height": 281
        },
        "id": "OfDlM4miR_gW",
        "outputId": "f40d75b1-e137-495f-ad9f-95e64b175488"
      },
      "source": [
        "# predict for sleeping\n",
        "le6 = LinearRegression()\n",
        "le6.fit(X_sle_train, y_sle_train)\n",
        "sle_pred = le6.predict(X_sle_test)\n",
        "\n",
        "# plot predictions\n",
        "plt.hist(sle_pred, bins=20)\n",
        "plt.title('Predicted Hours for Sleeping')\n",
        "plt.show()"
      ],
      "execution_count": null,
      "outputs": [
        {
          "output_type": "display_data",
          "data": {
            "image/png": "[encoded data removed]",
            "text/plain": [
              "<Figure size 432x288 with 1 Axes>"
            ]
          },
          "metadata": {
            "tags": [],
            "needs_background": "light"
          }
        }
      ]
    },
    {
      "cell_type": "code",
      "metadata": {
        "id": "evb1CeeUTyvb"
      },
      "source": [
        "# predict for Mother to pump\n",
        "le7 = LinearRegression(n_jobs=2) # 2 target variables\n",
        "le7.fit(X_pum_train, y_pum_train)\n",
        "pum_pred = le7.predict(X_pum_test)\n",
        "\n",
        "# Predicted Formula Amount at Predicted Hours\n",
        "pum_hour_pred = pum_pred[:, 0] \n",
        "pum_amt_pred = pum_pred[:, 1] "
      ],
      "execution_count": null,
      "outputs": []
    },
    {
      "cell_type": "code",
      "metadata": {
        "colab": {
          "base_uri": "https://localhost:8080/",
          "height": 460
        },
        "id": "EMFAiFf0UMtq",
        "outputId": "6f8253be-a78d-4cbc-bc3a-0313b7da037a"
      },
      "source": [
        "ax = sns.jointplot(data=for_pred, x=for_pred[:, 0], y=for_pred[:, 1], color='orange')\n",
        "ax.set_axis_labels(xlabel='Predicted Hours of Breastmilk Pump', ylabel = 'Predicted Breast Milk Amount', fontsize=16)\n",
        "plt.show()"
      ],
      "execution_count": null,
      "outputs": [
        {
          "output_type": "display_data",
          "data": {
            "image/png": "[encoded data removed]",
            "text/plain": [
              "<Figure size 432x432 with 3 Axes>"
            ]
          },
          "metadata": {
            "tags": [],
            "needs_background": "light"
          }
        }
      ]
    },
    {
      "cell_type": "markdown",
      "metadata": {
        "id": "AnwnQVzkReU3"
      },
      "source": [
        "**Notes for Inaccurate Modeling with tiny datasets:**\n",
        "\n",
        "\n",
        "*   As we mentioned above, sizes of all datasets are really tiny, which does not enable us to predict accurately. Because models trained on those tiny datasets are more likely to see patterns that do not exist, which results in high variance and very high error on a test set. \n",
        "\n",
        "*   Therefore, we could see those models do not really performs well on test datasets as there are so many hours or certain periods that are not captured even though the simplest algorithm is applied on."
      ]
    },
    {
      "cell_type": "markdown",
      "metadata": {
        "id": "Vf0NbX2nYVOv"
      },
      "source": [
        "**[Further Discussion] How could we deal with small datasets?**\n",
        "\n",
        "According to [7 Effective Ways to Deal With a Small Dataset](https://hackernoon.com/7-effective-ways-to-deal-with-a-small-dataset-2gyl407s) from a Data Science Writer Kateryna Koidan, let's see what we have done and not done for modeling.\n",
        "\n",
        "\n",
        "1.   **Choose simple models.**   \n",
        "(Yes, we did. Linear Regression with default parameters has been applied.)\n",
        "2.   **Remove outliers from data.**   \n",
        "(No, we did not. Outliers for baby's activities definitly exist.)\n",
        "3.   **Select relevant features.**   \n",
        "(Yes, we did. We've checked correlation scores but still kept those high - socred features due to limited datasets. If domain experts, like pediatrian and gynecologist, can be discussed with, it will be better.)\n",
        "4.   **Combine several models.** \n",
        "5.   **Rely on confidence intervals instead of point estimates.** \n",
        "6.   **Pool data from other possible sources.**\n",
        "7.   **Apply transfer learning when possible.**  \n",
        "(For the 4 - 7\n",
        " ways: No, we did not. Because we did not deep dive into modeling in this project.)\n"
      ]
    },
    {
      "cell_type": "markdown",
      "metadata": {
        "id": "MxqzqAfOa7JN"
      },
      "source": [
        "#4. Unsupervised Model for Text \n",
        "Food feeding for Timmons was recorded in \"Note\" column of feeds dataset. I am going to analyze what I have fed him via the methods as below:\n",
        "\n",
        "1.   Tokenization from text \n",
        "2.   Build a TfidfVectorizer model with TF-IDF\n",
        "3.   Save food terms from the model\n",
        "\n"
      ]
    },
    {
      "cell_type": "markdown",
      "metadata": {
        "id": "RAxEp7aeS8hz"
      },
      "source": [
        "##4.1 Tokenization of Note"
      ]
    },
    {
      "cell_type": "code",
      "metadata": {
        "colab": {
          "base_uri": "https://localhost:8080/"
        },
        "id": "mpHS_UVwcL74",
        "outputId": "62560146-1a79-4350-ad45-813d76047fbe"
      },
      "source": [
        "import nltk\n",
        "from sklearn.feature_extraction.text import TfidfVectorizer\n",
        "\n",
        "nltk.download('punkt')\n",
        "nltk.download('stopwords')"
      ],
      "execution_count": null,
      "outputs": [
        {
          "output_type": "stream",
          "text": [
            "[nltk_data] Downloading package punkt to /root/nltk_data...\n",
            "[nltk_data]   Unzipping tokenizers/punkt.zip.\n",
            "[nltk_data] Downloading package stopwords to /root/nltk_data...\n",
            "[nltk_data]   Unzipping corpora/stopwords.zip.\n"
          ],
          "name": "stdout"
        },
        {
          "output_type": "execute_result",
          "data": {
            "text/plain": [
              "True"
            ]
          },
          "metadata": {
            "tags": []
          },
          "execution_count": 60
        }
      ]
    },
    {
      "cell_type": "code",
      "metadata": {
        "colab": {
          "base_uri": "https://localhost:8080/"
        },
        "id": "Bc2FpRGrbyYu",
        "outputId": "d986f879-bc7f-4277-cb3a-b6356858ec99"
      },
      "source": [
        "text = feeds.loc[:, 'Note'].tolist()\n",
        "text"
      ],
      "execution_count": null,
      "outputs": [
        {
          "output_type": "execute_result",
          "data": {
            "text/plain": [
              "['Apple, Date',\n",
              " 'NA',\n",
              " 'NA',\n",
              " 'Potato, Tomato, Celery, Apple, Broccoli ',\n",
              " 'NA',\n",
              " 'NA',\n",
              " 'Apple, Date',\n",
              " 'NA',\n",
              " 'NA',\n",
              " 'Zucchini, Apple, Watermelon, Barley',\n",
              " 'NA',\n",
              " 'NA',\n",
              " 'Apple, Broccoli ',\n",
              " 'NA',\n",
              " 'NA',\n",
              " 'Potato, Tomato, Celery, Apple, Broccoli ',\n",
              " 'NA',\n",
              " 'NA',\n",
              " 'Apple, Broccoli, Celery, Tomato,Potato ',\n",
              " 'NA',\n",
              " 'NA',\n",
              " 'Potato, Celery, Tomato, Apple, Broccoli ',\n",
              " 'NA',\n",
              " 'NA',\n",
              " 'Potato, Celery, Tomato, Pineapple, Pear ',\n",
              " 'NA',\n",
              " 'Chinese yam, Lotus root, Millet, Pineapple, Pear ',\n",
              " 'NA',\n",
              " 'NA',\n",
              " 'Chinese yam, Lotus root, Millet, Pineapple, Pear',\n",
              " 'NA',\n",
              " 'NA',\n",
              " 'Chinese yam, Lotus root, Millet, Pineapple, Pear',\n",
              " 'NA',\n",
              " 'NA',\n",
              " 'Chinese yam, Lotus root, Millet, Pineapple, Pear ',\n",
              " 'NA',\n",
              " 'NA',\n",
              " 'Miller,Chinese yam, Lotus root, Pineapple, Pear',\n",
              " 'NA',\n",
              " 'NA',\n",
              " 'Pear, Pineapple ',\n",
              " 'NA',\n",
              " 'Chinese yam, Lotus root, Eggyolk, Millet',\n",
              " 'NA',\n",
              " 'Banana Apricot Peach ',\n",
              " 'NA',\n",
              " 'Eggyolk, Chinese yam, Lotus root, Millet',\n",
              " 'NA',\n",
              " 'Banana Apricot Peach',\n",
              " 'NA',\n",
              " 'Pumpkin Tomato Eggyolk',\n",
              " 'NA',\n",
              " 'Banana Apricot Peach',\n",
              " 'NA',\n",
              " 'Pumpkin Tomato Eggyolk',\n",
              " 'NA',\n",
              " 'Banana Peach Apricot',\n",
              " 'NA',\n",
              " 'Pumpkin and Tomato',\n",
              " 'NA',\n",
              " 'Pear Mango',\n",
              " 'NA',\n",
              " 'Pumpkin and Tomato',\n",
              " 'NA',\n",
              " 'Pears  Mango',\n",
              " 'NA',\n",
              " 'Chinese yam Prune Spinach Carrot',\n",
              " 'NA',\n",
              " 'NA',\n",
              " 'Chinese yam Carrot Spinach Prune',\n",
              " 'NA',\n",
              " 'NA',\n",
              " 'Mango Pears',\n",
              " 'NA',\n",
              " 'Prune Chinese yam Carrot Spinach ',\n",
              " 'NA',\n",
              " 'NA',\n",
              " 'Mango Pears',\n",
              " 'NA',\n",
              " 'Prune Chinese yam Carrot Spinach',\n",
              " 'NA',\n",
              " 'NA',\n",
              " 'Prune Chinese yam Carrot Spinach',\n",
              " 'NA',\n",
              " 'NA',\n",
              " 'Apple',\n",
              " 'NA',\n",
              " 'Spinach carrot Chinese yam ',\n",
              " 'NA',\n",
              " 'Spinach carrot Chinese yam ',\n",
              " 'NA',\n",
              " 'Apple',\n",
              " 'NA',\n",
              " 'Spinach carrot chinese yam',\n",
              " 'NA',\n",
              " 'Banana avocado broccoli ',\n",
              " 'NA',\n",
              " 'NA',\n",
              " 'Broccoli /Banana /Purple Potato /Avocado ',\n",
              " 'NA',\n",
              " 'Avocado and Banana',\n",
              " 'Purple potato \\nPrune',\n",
              " 'NA',\n",
              " 'NA',\n",
              " 'Prune',\n",
              " 'NA',\n",
              " 'Broccoli and Purple potato',\n",
              " 'Sesame oil and purple potato ',\n",
              " 'NA',\n",
              " 'Pears',\n",
              " 'NA',\n",
              " 'Purple potato and Sesame oil',\n",
              " 'NA',\n",
              " 'Purple potato and Pears\\nSesame oil',\n",
              " 'NA',\n",
              " 'NA',\n",
              " 'Purple potato\\nButter',\n",
              " 'NA',\n",
              " 'Purple potato\\nButter',\n",
              " 'NA',\n",
              " 'NA',\n",
              " 'NA',\n",
              " 'NA',\n",
              " 'NA',\n",
              " 'Blueberry Potato',\n",
              " 'NA',\n",
              " 'NA',\n",
              " 'Potato Blueberry ',\n",
              " 'NA',\n",
              " 'NA',\n",
              " 'Potato Blurberry',\n",
              " 'NA',\n",
              " 'NA',\n",
              " 'Potato Banana',\n",
              " 'NA',\n",
              " 'NA',\n",
              " 'Potato Banana',\n",
              " 'NA',\n",
              " 'NA',\n",
              " 'Pumpkin ',\n",
              " 'NA',\n",
              " 'Prune',\n",
              " 'NA',\n",
              " 'Pumpkin ',\n",
              " 'NA',\n",
              " 'Prune',\n",
              " 'NA',\n",
              " 'Pumpkin ',\n",
              " 'NA',\n",
              " 'Pumpkin ',\n",
              " 'NA',\n",
              " 'NA',\n",
              " 'NA',\n",
              " 'Apple',\n",
              " 'NA',\n",
              " 'Prune',\n",
              " 'NA',\n",
              " 'Apple',\n",
              " 'NA',\n",
              " 'Pears',\n",
              " 'NA',\n",
              " 'Pears',\n",
              " 'NA',\n",
              " 'Pears',\n",
              " 'NA',\n",
              " 'Prune',\n",
              " 'NA',\n",
              " 'Prune',\n",
              " 'NA',\n",
              " 'Prune ',\n",
              " 'NA',\n",
              " 'NA',\n",
              " 'NA',\n",
              " 'Banana',\n",
              " 'NA',\n",
              " 'Banana',\n",
              " 'NA',\n",
              " 'Banana',\n",
              " 'NA',\n",
              " 'Sweet potato ',\n",
              " 'NA',\n",
              " 'Sweet potato ',\n",
              " 'NA',\n",
              " 'Sweet potato ',\n",
              " 'NA',\n",
              " 'Sweet potato ',\n",
              " 'NA',\n",
              " 'NA',\n",
              " 'Sweet potato ',\n",
              " 'NA',\n",
              " 'Green bean',\n",
              " 'NA',\n",
              " 'Green bean',\n",
              " 'NA',\n",
              " 'Green bean',\n",
              " 'NA',\n",
              " 'Carrot',\n",
              " 'NA',\n",
              " 'Carrot',\n",
              " 'NA',\n",
              " 'Carrot',\n",
              " 'NA',\n",
              " 'Carrot',\n",
              " 'NA',\n",
              " 'NA',\n",
              " 'NA',\n",
              " 'NA',\n",
              " 'NA',\n",
              " 'NA',\n",
              " 'NA',\n",
              " 'NA',\n",
              " 'NA',\n",
              " 'NA']"
            ]
          },
          "metadata": {
            "tags": []
          },
          "execution_count": 61
        }
      ]
    },
    {
      "cell_type": "code",
      "metadata": {
        "colab": {
          "base_uri": "https://localhost:8080/"
        },
        "id": "CAyoRk1ZcAtE",
        "outputId": "046a0cd5-57de-4869-d652-0e432f7d30d5"
      },
      "source": [
        "# Use nltk's English stopwords.\n",
        "stopwords = nltk.corpus.stopwords.words('english')\n",
        "stopwords.append(\"na\")\n",
        "stopwords.append(\"NA\") \n",
        "print (\"We use \" + str(len(stopwords)) + \" stop-words from nltk library.\")\n",
        "print (stopwords[:10])"
      ],
      "execution_count": null,
      "outputs": [
        {
          "output_type": "stream",
          "text": [
            "We use 181 stop-words from nltk library.\n",
            "['i', 'me', 'my', 'myself', 'we', 'our', 'ours', 'ourselves', 'you', \"you're\"]\n"
          ],
          "name": "stdout"
        }
      ]
    },
    {
      "cell_type": "code",
      "metadata": {
        "id": "7kPFwoS1cb9Z"
      },
      "source": [
        "# tokenization\n",
        "def tokenization(text):\n",
        "  tokens = []\n",
        "  # exclude stop words and tokenize the document, generate a list of string \n",
        "  for word in nltk.word_tokenize(text):\n",
        "    if word.lower() not in stopwords:\n",
        "      tokens.append(word.lower())\n",
        "\n",
        "  filtered_tokens = []\n",
        "  # filter out any tokens not containing \",\"\n",
        "  for token in tokens:\n",
        "    if token.isalpha(): \n",
        "      filtered_tokens.append(token)\n",
        "  return filtered_tokens"
      ],
      "execution_count": null,
      "outputs": []
    },
    {
      "cell_type": "code",
      "metadata": {
        "colab": {
          "base_uri": "https://localhost:8080/"
        },
        "id": "k8ce1j7VRH51",
        "outputId": "a5fd52e7-7b17-4b7a-ae65-ac30221d38b7"
      },
      "source": [
        "print(text[15])\n",
        "print(tokenization(text[15]))"
      ],
      "execution_count": null,
      "outputs": [
        {
          "output_type": "stream",
          "text": [
            "Potato, Tomato, Celery, Apple, Broccoli \n",
            "['potato', 'tomato', 'celery', 'apple', 'broccoli']\n"
          ],
          "name": "stdout"
        }
      ]
    },
    {
      "cell_type": "markdown",
      "metadata": {
        "id": "egLmDx88TE6d"
      },
      "source": [
        "##4.2 TF - IDF\n",
        "TF: Term Frequency \n",
        "\n",
        "IDF: Inverse Document Frequency"
      ]
    },
    {
      "cell_type": "code",
      "metadata": {
        "id": "qOh7V_hDQq1E"
      },
      "source": [
        "from sklearn.feature_extraction.text import TfidfVectorizer\n",
        "\n",
        "### parameters for TFidVectorizer:\n",
        "# max_df : maximum document frequency for the given word; those words appeared too much, which need to be abandomed.\n",
        "# min_df : minimum document frequency for the given word; those words appeared too less,, which need to be abadomed.\n",
        "# max_features: maximum number of words\n",
        "# use_idf: if not true, we only calculate tf\n",
        "# stop_words : built-in stop words\n",
        "# tokenizer: how to tokenize the document\n",
        "# ngram_range: (min_value, max_value), eg. (1, 3) means the result will include 1-gram, 2-gram, 3-gram.\n",
        "tfidf_model = TfidfVectorizer(max_df=0.99, max_features=20,\\\n",
        "                              min_df=0.01, stop_words='english',\\\n",
        "                              use_idf=True, tokenizer=tokenization, ngram_range=(1,1))\n",
        "\n",
        "tfidf_matrix = tfidf_model.fit_transform(text)"
      ],
      "execution_count": null,
      "outputs": []
    },
    {
      "cell_type": "code",
      "metadata": {
        "colab": {
          "base_uri": "https://localhost:8080/"
        },
        "id": "EbK-yLC-URSV",
        "outputId": "d7400cfb-5406-4237-e856-645d5584ed17"
      },
      "source": [
        "print(f\"In summary, there were \" + str(tfidf_matrix.shape[0]) + \" times of taking solid food\" +\\\n",
        "      \" with \" + str(tfidf_matrix.shape[1]) + \" differnt kinds of food.\")\n",
        "tfidf_matrix"
      ],
      "execution_count": null,
      "outputs": [
        {
          "output_type": "stream",
          "text": [
            "In summary, there were 214 times of taking solid food with 20 differnt kinds of food.\n"
          ],
          "name": "stdout"
        },
        {
          "output_type": "execute_result",
          "data": {
            "text/plain": [
              "<214x20 sparse matrix of type '<class 'numpy.float64'>'\n",
              "\twith 194 stored elements in Compressed Sparse Row format>"
            ]
          },
          "metadata": {
            "tags": []
          },
          "execution_count": 66
        }
      ]
    },
    {
      "cell_type": "code",
      "metadata": {
        "colab": {
          "base_uri": "https://localhost:8080/"
        },
        "id": "JJZrUCemUSPN",
        "outputId": "42b12b73-baa6-4279-e551-adbe1062851f"
      },
      "source": [
        "tfidf_matrix.toarray()"
      ],
      "execution_count": null,
      "outputs": [
        {
          "output_type": "execute_result",
          "data": {
            "text/plain": [
              "array([[1., 0., 0., ..., 0., 0., 0.],\n",
              "       [0., 0., 0., ..., 0., 0., 0.],\n",
              "       [0., 0., 0., ..., 0., 0., 0.],\n",
              "       ...,\n",
              "       [0., 0., 0., ..., 0., 0., 0.],\n",
              "       [0., 0., 0., ..., 0., 0., 0.],\n",
              "       [0., 0., 0., ..., 0., 0., 0.]])"
            ]
          },
          "metadata": {
            "tags": []
          },
          "execution_count": 67
        }
      ]
    },
    {
      "cell_type": "code",
      "metadata": {
        "colab": {
          "base_uri": "https://localhost:8080/"
        },
        "id": "t0JjWUVwVgie",
        "outputId": "842a48c9-95d9-4e74-b0d4-056c353f88b4"
      },
      "source": [
        "# check the parameters\n",
        "tfidf_model.get_params()"
      ],
      "execution_count": null,
      "outputs": [
        {
          "output_type": "execute_result",
          "data": {
            "text/plain": [
              "{'analyzer': 'word',\n",
              " 'binary': False,\n",
              " 'decode_error': 'strict',\n",
              " 'dtype': numpy.float64,\n",
              " 'encoding': 'utf-8',\n",
              " 'input': 'content',\n",
              " 'lowercase': True,\n",
              " 'max_df': 0.99,\n",
              " 'max_features': 20,\n",
              " 'min_df': 0.01,\n",
              " 'ngram_range': (1, 1),\n",
              " 'norm': 'l2',\n",
              " 'preprocessor': None,\n",
              " 'smooth_idf': True,\n",
              " 'stop_words': 'english',\n",
              " 'strip_accents': None,\n",
              " 'sublinear_tf': False,\n",
              " 'token_pattern': '(?u)\\\\b\\\\w\\\\w+\\\\b',\n",
              " 'tokenizer': <function __main__.tokenization>,\n",
              " 'use_idf': True,\n",
              " 'vocabulary': None}"
            ]
          },
          "metadata": {
            "tags": []
          },
          "execution_count": 68
        }
      ]
    },
    {
      "cell_type": "markdown",
      "metadata": {
        "id": "HTi6qrl7VqiA"
      },
      "source": [
        "**Save Terms**"
      ]
    },
    {
      "cell_type": "code",
      "metadata": {
        "colab": {
          "base_uri": "https://localhost:8080/"
        },
        "id": "FK5snqQBVj18",
        "outputId": "377daf68-4c23-4cbf-8e88-628c6a6934fe"
      },
      "source": [
        "# terms\n",
        "tfidf_terms = tfidf_model.get_feature_names()\n",
        "tfidf_terms"
      ],
      "execution_count": null,
      "outputs": [
        {
          "output_type": "execute_result",
          "data": {
            "text/plain": [
              "['apple',\n",
              " 'banana',\n",
              " 'broccoli',\n",
              " 'carrot',\n",
              " 'celery',\n",
              " 'chinese',\n",
              " 'lotus',\n",
              " 'millet',\n",
              " 'pear',\n",
              " 'pears',\n",
              " 'pineapple',\n",
              " 'potato',\n",
              " 'prune',\n",
              " 'pumpkin',\n",
              " 'purple',\n",
              " 'root',\n",
              " 'spinach',\n",
              " 'sweet',\n",
              " 'tomato',\n",
              " 'yam']"
            ]
          },
          "metadata": {
            "tags": []
          },
          "execution_count": 69
        }
      ]
    }
  ]
}